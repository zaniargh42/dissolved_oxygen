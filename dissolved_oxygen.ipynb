{
 "cells": [
  {
   "cell_type": "code",
   "execution_count": 2,
   "metadata": {},
   "outputs": [],
   "source": [
    "import pandas as pd\n",
    "import numpy as np\n",
    "import matplotlib.pyplot as plt\n",
    "import joblib\n",
    "from tqdm import tqdm\n",
    "\n",
    "from keras.models import Sequential \n",
    "from keras.layers import Dense  ,Dropout\n",
    "from keras.optimizers import Adam\n",
    "\n",
    "from imblearn.over_sampling import SMOTE\n",
    "\n",
    "from sklearn.preprocessing import StandardScaler\n",
    "from sklearn.tree import DecisionTreeRegressor\n",
    "from sklearn.ensemble import RandomForestRegressor ,ExtraTreesRegressor ,GradientBoostingRegressor\n",
    "from sklearn.neighbors import KNeighborsRegressor\n",
    "from sklearn.neural_network import MLPRegressor\n",
    "from sklearn.metrics import mean_absolute_error,mean_squared_error,r2_score\n",
    "from sklearn.svm import SVR\n",
    "\n",
    "from scipy.stats import zscore"
   ]
  },
  {
   "attachments": {},
   "cell_type": "markdown",
   "metadata": {},
   "source": [
    "# Prepare"
   ]
  },
  {
   "cell_type": "code",
   "execution_count": 3,
   "metadata": {},
   "outputs": [],
   "source": [
    "def _load_data():\n",
    "    train=pd.read_excel('Data set - Tisa.xlsx',sheet_name='Training set 2011-2015')\n",
    "    train.columns=['temperature', 'solids', 'dissolved_oxygen', 'pH','electrical', 'NH4', 'NO2', 'NO3', 'TN', 'PO4P', 'BOD5']\n",
    "    train=train.drop(list(train[train.isna().any(axis=1)].index),axis=0)\n",
    "\n",
    "    test=pd.read_excel('Data set - Tisa.xlsx',sheet_name='Testing set 2016-2019 ')\n",
    "    test.columns=['temperature', 'solids', 'dissolved_oxygen', 'pH','electrical', 'NH4', 'NO2', 'NO3', 'TN', 'PO4P', 'BOD5']\n",
    "    test=test.drop(list(test[test.isna().any(axis=1)].index),axis=0)\n",
    "\n",
    "    print(train.shape,test.shape)\n",
    "    return train , test\n",
    "\n",
    "def _prepare_data(data):\n",
    "    X_train=data.drop(['dissolved_oxygen'],axis=1)\n",
    "    y_train=data.dissolved_oxygen\n",
    "    return X_train , y_train\n",
    "\n",
    "\n",
    "def _calc_corr(y_test,y_pred,sqrt=False):\n",
    "    res=pd.DataFrame(y_pred,columns=['pred'])\n",
    "    res['real']=y_test\n",
    "    if sqrt:\n",
    "        return np.sqrt(res.corr())\n",
    "    else: return res.corr()\n",
    "\n",
    "def _zscore(df):\n",
    "    df_scaled=zscore(df,axis=1)\n",
    "    return df_scaled\n",
    "\n",
    "def _scale_data(X_train,y_train,X_test,y_test,same=False):\n",
    "    X_scaler=StandardScaler()\n",
    "    X_train_scaled=X_scaler.fit_transform(X_train)\n",
    "    y_scaler=StandardScaler()\n",
    "    y_train_scaled=y_scaler.fit_transform(np.array(y_train).reshape(-1,1))    \n",
    "    if same:\n",
    "        X_test_scaled=X_scaler.transform(X_test)\n",
    "        y_test_scaled=y_scaler.transform(np.array(y_test).reshape(-1,1))\n",
    "\n",
    "        return X_train_scaled,y_train_scaled,X_test_scaled,y_test_scaled\n",
    "    else:\n",
    "        X_test_scaler=StandardScaler()\n",
    "        y_test_scaler=StandardScaler()\n",
    "        X_test_scaled=X_test_scaler.fit_transform(X_test)\n",
    "        y_test_scaled=y_test_scaler.fit_transform(np.array(y_test).reshape(-1,1))  \n",
    "        return X_train_scaled,y_train_scaled,X_test_scaled,y_test_scaled    \n",
    "\n",
    "#create a function to find outliers using IQR\n",
    "def find_outliers_IQR(df):\n",
    "   q1=df.quantile(0.25)\n",
    "   q3=df.quantile(0.75)\n",
    "   IQR=q3-q1\n",
    "   outliers = df[((df<(q1-1.5*IQR)) | (df>(q3+1.5*IQR)))]\n",
    "   return outliers\n",
    "\n",
    "def _relative_error(y_test,y_pred):\n",
    "    re=[]\n",
    "    for item in range(len(y_test)):\n",
    "        re.append((abs(y_test[item]-y_pred[item])/y_test[item])*100)\n",
    "    return np.mean(re)\n",
    "\n",
    "def _errors(y_test, y_pred):\n",
    "    mse=mean_squared_error(y_test, y_pred)\n",
    "    rmse=np.sqrt(mse)\n",
    "    relative=_relative_error(y_test,y_pred)\n",
    "    mae=mean_absolute_error(y_test, y_pred)\n",
    "    corr=_calc_corr(y_test,y_pred,sqrt=False)\n",
    "    sq_corr=r2_score(y_test,y_pred)\n",
    "    print(f\"mse: {mse}\\nrmse: {rmse}\\nrelative: {relative} %\\nmae: {mae}\\ncorr:{corr['real']['pred']}\\nsq_corr:{sq_corr}\\n\")\n",
    "    return [mse,rmse,relative,mae,corr['real']['pred'],sq_corr]\n",
    "\n",
    "def _drop_outliers(train,test,drop_test=False):\n",
    "    train=train[find_outliers_IQR(train).isna()].dropna()\n",
    "    if drop_test:\n",
    "        test=test[find_outliers_IQR(test).isna()].dropna()\n",
    "        print(train.shape,test.shape)\n",
    "        return train,test\n",
    "    else:\n",
    "        print(train.shape,test.shape)\n",
    "        return train,test\n",
    "\n",
    "def _augment_data(df,n=1000):\n",
    "    #creating fake data\n",
    "    fake=pd.DataFrame([list(range(1,len(df.columns)+1))],columns=df.columns,index=range(n))\n",
    "    fake.columns\n",
    "    for item in fake.columns:\n",
    "        fake[item]=np.random.random(n)\n",
    "    fake['fake']=np.ones(len(fake))\n",
    "    # concatenate fake and real data\n",
    "    df['fake']=np.zeros(len(df))\n",
    "    temp=pd.concat([fake,df],axis=0)\n",
    "    temp.reset_index(drop=True,inplace=True)\n",
    "    # Augment data\n",
    "    X=temp.drop(['fake'],axis=1)\n",
    "    y=temp.fake\n",
    "    # transform the dataset\n",
    "    oversample = SMOTE()\n",
    "    X, y = oversample.fit_resample(X, y)\n",
    "    X['fake']=y\n",
    "    temp=X[X.fake==0]\n",
    "    temp.drop(['fake'],axis=1,inplace=True)\n",
    "    temp.reset_index(drop=True,inplace=True)\n",
    "    return temp\n",
    "\n",
    "def _dataset_type(train, test, type='ds1'):\n",
    "    if type=='ds1':\n",
    "        train.drop(['solids','NO2', 'NO3', 'TN','BOD5'],axis=1,inplace=True)\n",
    "        test.drop(['solids','NO2', 'NO3', 'TN','BOD5'],axis=1,inplace=True)\n",
    "        return train , test\n",
    "    elif type=='ds2':\n",
    "        train.drop(['solids','NO2', 'NO3', 'TN','BOD5','NH4'],axis=1,inplace=True)\n",
    "        test.drop(['solids','NO2', 'NO3', 'TN','BOD5','NH4'],axis=1,inplace=True)\n",
    "        return train , test\n",
    "    elif type=='ds3':\n",
    "        train.drop(['solids','NO2', 'NO3', 'TN','BOD5','NH4','electrical'],axis=1,inplace=True)\n",
    "        test.drop(['solids','NO2', 'NO3', 'TN','BOD5','NH4','electrical'],axis=1,inplace=True) \n",
    "        return train , test  "
   ]
  },
  {
   "attachments": {},
   "cell_type": "markdown",
   "metadata": {},
   "source": [
    "# data"
   ]
  },
  {
   "cell_type": "code",
   "execution_count": 4,
   "metadata": {},
   "outputs": [
    {
     "name": "stdout",
     "output_type": "stream",
     "text": [
      "(605, 11) (461, 11)\n",
      "(466, 6) (339, 6)\n",
      "(466, 6)\n"
     ]
    }
   ],
   "source": [
    "# load\n",
    "train,test=_load_data()\n",
    "\n",
    "# dataset type\n",
    "train , test = _dataset_type(train, test,type='ds1')\n",
    "\n",
    "# drop outliers\n",
    "train,test=_drop_outliers(train , test,drop_test=True)\n",
    "\n",
    "# z score standard \n",
    "train=_zscore(train)\n",
    "test =_zscore(test)\n",
    "\n",
    "# Augment data\n",
    "\n",
    "# train=_augment_data(train,n=1000)\n",
    "print(train.shape)\n",
    "\n",
    "# train test and x y split\n",
    "X_train , y_train=_prepare_data(train)\n",
    "X_test , y_test =_prepare_data(test)\n",
    "\n"
   ]
  },
  {
   "attachments": {},
   "cell_type": "markdown",
   "metadata": {},
   "source": [
    "# Models"
   ]
  },
  {
   "attachments": {},
   "cell_type": "markdown",
   "metadata": {},
   "source": [
    "## Machine Learning"
   ]
  },
  {
   "cell_type": "code",
   "execution_count": 55,
   "metadata": {},
   "outputs": [],
   "source": [
    "# model checkpoint\n",
    "# - ExtraTreeRegressor\n",
    "# - this model has r2=0.741\n",
    "# joblib.dump(model, 'extratreereg.joblib.pkl', compress=9)\n",
    "model= joblib.load('extratreereg.joblib.pkl')"
   ]
  },
  {
   "cell_type": "code",
   "execution_count": 87,
   "metadata": {},
   "outputs": [
    {
     "name": "stdout",
     "output_type": "stream",
     "text": [
      "mse: 0.3589497508925861\n",
      "rmse: 0.5991241531540737\n",
      "relative: 6846.61064982145 %\n",
      "mae: 0.42801483805367946\n",
      "corr:0.802122713418148\n",
      "sq_corr:0.6410502491074139\n",
      "\n"
     ]
    },
    {
     "data": {
      "text/plain": [
       "[0.3589497508925861,\n",
       " 0.5991241531540737,\n",
       " 6846.61064982145,\n",
       " 0.42801483805367946,\n",
       " 0.802122713418148,\n",
       " 0.6410502491074139]"
      ]
     },
     "execution_count": 87,
     "metadata": {},
     "output_type": "execute_result"
    }
   ],
   "source": [
    "model=KNeighborsRegressor()\n",
    "model.fit(X_train.values,y_train)\n",
    "y_pred=model.predict(X_test.values)\n",
    "_errors(y_test.values, y_pred)"
   ]
  },
  {
   "cell_type": "code",
   "execution_count": 88,
   "metadata": {},
   "outputs": [
    {
     "name": "stdout",
     "output_type": "stream",
     "text": [
      "mse: 0.557946984543674\n",
      "rmse: 0.7469584891703648\n",
      "relative: 3774.6978308569 %\n",
      "mae: 0.5345342197800231\n",
      "corr:0.7196925936858217\n",
      "sq_corr:0.442053015456326\n",
      "\n"
     ]
    },
    {
     "name": "stderr",
     "output_type": "stream",
     "text": [
      "/home/zaniargh42/.local/lib/python3.10/site-packages/sklearn/base.py:413: UserWarning: X has feature names, but DecisionTreeRegressor was fitted without feature names\n",
      "  warnings.warn(\n"
     ]
    },
    {
     "data": {
      "text/plain": [
       "[0.557946984543674,\n",
       " 0.7469584891703648,\n",
       " 3774.6978308569,\n",
       " 0.5345342197800231,\n",
       " 0.7196925936858217,\n",
       " 0.442053015456326]"
      ]
     },
     "execution_count": 88,
     "metadata": {},
     "output_type": "execute_result"
    }
   ],
   "source": [
    "model=DecisionTreeRegressor()\n",
    "model.fit(X_train.values,y_train)\n",
    "y_pred=model.predict(X_test)\n",
    "_errors(y_test.values, y_pred)"
   ]
  },
  {
   "cell_type": "code",
   "execution_count": 89,
   "metadata": {},
   "outputs": [
    {
     "name": "stdout",
     "output_type": "stream",
     "text": [
      "mse: 0.32244888126934396\n",
      "rmse: 0.5678458252636396\n",
      "relative: 5827.3243782786085 %\n",
      "mae: 0.38867983259842404\n",
      "corr:0.8242536102962836\n",
      "sq_corr:0.677551118730656\n",
      "\n"
     ]
    },
    {
     "name": "stderr",
     "output_type": "stream",
     "text": [
      "/home/zaniargh42/.local/lib/python3.10/site-packages/sklearn/base.py:413: UserWarning: X has feature names, but RandomForestRegressor was fitted without feature names\n",
      "  warnings.warn(\n"
     ]
    },
    {
     "data": {
      "text/plain": [
       "[0.32244888126934396,\n",
       " 0.5678458252636396,\n",
       " 5827.3243782786085,\n",
       " 0.38867983259842404,\n",
       " 0.8242536102962836,\n",
       " 0.677551118730656]"
      ]
     },
     "execution_count": 89,
     "metadata": {},
     "output_type": "execute_result"
    }
   ],
   "source": [
    "model=RandomForestRegressor()\n",
    "model.fit(X_train.values,y_train)\n",
    "y_pred=model.predict(X_test)\n",
    "_errors(y_test.values, y_pred)"
   ]
  },
  {
   "cell_type": "code",
   "execution_count": 90,
   "metadata": {},
   "outputs": [
    {
     "name": "stdout",
     "output_type": "stream",
     "text": [
      "mse: 0.3079007120670025\n",
      "rmse: 0.5548880175918403\n",
      "relative: 5360.5035112858695 %\n",
      "mae: 0.3775573511961226\n",
      "corr:0.8355811106024965\n",
      "sq_corr:0.6920992879329975\n",
      "\n"
     ]
    },
    {
     "name": "stderr",
     "output_type": "stream",
     "text": [
      "/home/zaniargh42/.local/lib/python3.10/site-packages/sklearn/base.py:413: UserWarning: X has feature names, but GradientBoostingRegressor was fitted without feature names\n",
      "  warnings.warn(\n"
     ]
    },
    {
     "data": {
      "text/plain": [
       "[0.3079007120670025,\n",
       " 0.5548880175918403,\n",
       " 5360.5035112858695,\n",
       " 0.3775573511961226,\n",
       " 0.8355811106024965,\n",
       " 0.6920992879329975]"
      ]
     },
     "execution_count": 90,
     "metadata": {},
     "output_type": "execute_result"
    }
   ],
   "source": [
    "model=GradientBoostingRegressor()\n",
    "model.fit(X_train.values,y_train)\n",
    "y_pred=model.predict(X_test)\n",
    "_errors(y_test.values, y_pred)"
   ]
  },
  {
   "cell_type": "code",
   "execution_count": 91,
   "metadata": {},
   "outputs": [
    {
     "name": "stdout",
     "output_type": "stream",
     "text": [
      "mse: 0.3069057019868111\n",
      "rmse: 0.5539907056863058\n",
      "relative: 4891.9485710719 %\n",
      "mae: 0.3713532004630767\n",
      "corr:0.8337166424738669\n",
      "sq_corr:0.6930942980131889\n",
      "\n"
     ]
    },
    {
     "name": "stderr",
     "output_type": "stream",
     "text": [
      "/home/zaniargh42/.local/lib/python3.10/site-packages/sklearn/base.py:413: UserWarning: X has feature names, but SVR was fitted without feature names\n",
      "  warnings.warn(\n"
     ]
    },
    {
     "data": {
      "text/plain": [
       "[0.3069057019868111,\n",
       " 0.5539907056863058,\n",
       " 4891.9485710719,\n",
       " 0.3713532004630767,\n",
       " 0.8337166424738669,\n",
       " 0.6930942980131889]"
      ]
     },
     "execution_count": 91,
     "metadata": {},
     "output_type": "execute_result"
    }
   ],
   "source": [
    "model=SVR()\n",
    "model.fit(X_train.values,y_train)\n",
    "y_pred=model.predict(X_test)\n",
    "_errors(y_test.values, y_pred)"
   ]
  },
  {
   "cell_type": "code",
   "execution_count": 92,
   "metadata": {},
   "outputs": [
    {
     "name": "stdout",
     "output_type": "stream",
     "text": [
      "mse: 0.2866537827814137\n",
      "rmse: 0.5354005816035444\n",
      "relative: 5649.215208292452 %\n",
      "mae: 0.36125869926666976\n",
      "corr:0.8458438823268267\n",
      "sq_corr:0.7133462172185863\n",
      "\n"
     ]
    },
    {
     "name": "stderr",
     "output_type": "stream",
     "text": [
      "/home/zaniargh42/.local/lib/python3.10/site-packages/sklearn/neural_network/_multilayer_perceptron.py:684: ConvergenceWarning: Stochastic Optimizer: Maximum iterations (200) reached and the optimization hasn't converged yet.\n",
      "  warnings.warn(\n",
      "/home/zaniargh42/.local/lib/python3.10/site-packages/sklearn/base.py:413: UserWarning: X has feature names, but MLPRegressor was fitted without feature names\n",
      "  warnings.warn(\n"
     ]
    },
    {
     "data": {
      "text/plain": [
       "[0.2866537827814137,\n",
       " 0.5354005816035444,\n",
       " 5649.215208292452,\n",
       " 0.36125869926666976,\n",
       " 0.8458438823268267,\n",
       " 0.7133462172185863]"
      ]
     },
     "execution_count": 92,
     "metadata": {},
     "output_type": "execute_result"
    }
   ],
   "source": [
    "model=MLPRegressor()\n",
    "model.fit(X_train.values,y_train)\n",
    "y_pred=model.predict(X_test)\n",
    "_errors(y_test.values, y_pred)"
   ]
  },
  {
   "attachments": {},
   "cell_type": "markdown",
   "metadata": {},
   "source": [
    "## DL Model"
   ]
  },
  {
   "cell_type": "code",
   "execution_count": 94,
   "metadata": {},
   "outputs": [
    {
     "name": "stdout",
     "output_type": "stream",
     "text": [
      "Epoch 1/150\n",
      "16/16 [==============================] - 1s 19ms/step - loss: 1.0000 - val_loss: 1.0000\n",
      "Epoch 2/150\n",
      "16/16 [==============================] - 0s 7ms/step - loss: 1.0000 - val_loss: 1.0000\n",
      "Epoch 3/150\n",
      "16/16 [==============================] - 0s 6ms/step - loss: 1.0000 - val_loss: 1.0000\n",
      "Epoch 4/150\n",
      "16/16 [==============================] - 0s 7ms/step - loss: 1.0000 - val_loss: 1.0000\n",
      "Epoch 5/150\n",
      "16/16 [==============================] - 0s 9ms/step - loss: 1.0000 - val_loss: 1.0000\n",
      "Epoch 6/150\n",
      "16/16 [==============================] - 0s 7ms/step - loss: 1.0000 - val_loss: 0.9999\n",
      "Epoch 7/150\n",
      "16/16 [==============================] - 0s 7ms/step - loss: 0.9999 - val_loss: 0.9999\n",
      "Epoch 8/150\n",
      "16/16 [==============================] - 0s 7ms/step - loss: 0.9999 - val_loss: 0.9999\n",
      "Epoch 9/150\n",
      "16/16 [==============================] - 0s 7ms/step - loss: 0.9998 - val_loss: 0.9998\n",
      "Epoch 10/150\n",
      "16/16 [==============================] - 0s 8ms/step - loss: 0.9998 - val_loss: 0.9997\n",
      "Epoch 11/150\n",
      "16/16 [==============================] - 0s 9ms/step - loss: 0.9996 - val_loss: 0.9995\n",
      "Epoch 12/150\n",
      "16/16 [==============================] - 0s 10ms/step - loss: 0.9994 - val_loss: 0.9993\n",
      "Epoch 13/150\n",
      "16/16 [==============================] - 0s 8ms/step - loss: 0.9992 - val_loss: 0.9990\n",
      "Epoch 14/150\n",
      "16/16 [==============================] - 0s 10ms/step - loss: 0.9988 - val_loss: 0.9986\n",
      "Epoch 15/150\n",
      "16/16 [==============================] - 0s 10ms/step - loss: 0.9984 - val_loss: 0.9981\n",
      "Epoch 16/150\n",
      "16/16 [==============================] - 0s 10ms/step - loss: 0.9978 - val_loss: 0.9974\n",
      "Epoch 17/150\n",
      "16/16 [==============================] - 0s 6ms/step - loss: 0.9969 - val_loss: 0.9965\n",
      "Epoch 18/150\n",
      "16/16 [==============================] - 0s 7ms/step - loss: 0.9959 - val_loss: 0.9954\n",
      "Epoch 19/150\n",
      "16/16 [==============================] - 0s 6ms/step - loss: 0.9947 - val_loss: 0.9939\n",
      "Epoch 20/150\n",
      "16/16 [==============================] - 0s 7ms/step - loss: 0.9930 - val_loss: 0.9921\n",
      "Epoch 21/150\n",
      "16/16 [==============================] - 0s 7ms/step - loss: 0.9910 - val_loss: 0.9900\n",
      "Epoch 22/150\n",
      "16/16 [==============================] - 0s 7ms/step - loss: 0.9886 - val_loss: 0.9872\n",
      "Epoch 23/150\n",
      "16/16 [==============================] - 0s 7ms/step - loss: 0.9854 - val_loss: 0.9841\n",
      "Epoch 24/150\n",
      "16/16 [==============================] - 0s 6ms/step - loss: 0.9820 - val_loss: 0.9803\n",
      "Epoch 25/150\n",
      "16/16 [==============================] - 0s 6ms/step - loss: 0.9778 - val_loss: 0.9759\n",
      "Epoch 26/150\n",
      "16/16 [==============================] - 0s 6ms/step - loss: 0.9731 - val_loss: 0.9707\n",
      "Epoch 27/150\n",
      "16/16 [==============================] - 0s 6ms/step - loss: 0.9674 - val_loss: 0.9650\n",
      "Epoch 28/150\n",
      "16/16 [==============================] - 0s 7ms/step - loss: 0.9611 - val_loss: 0.9583\n",
      "Epoch 29/150\n",
      "16/16 [==============================] - 0s 6ms/step - loss: 0.9538 - val_loss: 0.9508\n",
      "Epoch 30/150\n",
      "16/16 [==============================] - 0s 6ms/step - loss: 0.9458 - val_loss: 0.9419\n",
      "Epoch 31/150\n",
      "16/16 [==============================] - 0s 6ms/step - loss: 0.9362 - val_loss: 0.9327\n",
      "Epoch 32/150\n",
      "16/16 [==============================] - 0s 6ms/step - loss: 0.9259 - val_loss: 0.9225\n",
      "Epoch 33/150\n",
      "16/16 [==============================] - 0s 6ms/step - loss: 0.9148 - val_loss: 0.9107\n",
      "Epoch 34/150\n",
      "16/16 [==============================] - 0s 8ms/step - loss: 0.9023 - val_loss: 0.8980\n",
      "Epoch 35/150\n",
      "16/16 [==============================] - 0s 6ms/step - loss: 0.8886 - val_loss: 0.8841\n",
      "Epoch 36/150\n",
      "16/16 [==============================] - 0s 6ms/step - loss: 0.8744 - val_loss: 0.8695\n",
      "Epoch 37/150\n",
      "16/16 [==============================] - 0s 6ms/step - loss: 0.8584 - val_loss: 0.8549\n",
      "Epoch 38/150\n",
      "16/16 [==============================] - 0s 6ms/step - loss: 0.8432 - val_loss: 0.8389\n",
      "Epoch 39/150\n",
      "16/16 [==============================] - 0s 6ms/step - loss: 0.8266 - val_loss: 0.8229\n",
      "Epoch 40/150\n",
      "16/16 [==============================] - 0s 6ms/step - loss: 0.8098 - val_loss: 0.8061\n",
      "Epoch 41/150\n",
      "16/16 [==============================] - 0s 6ms/step - loss: 0.7928 - val_loss: 0.7896\n",
      "Epoch 42/150\n",
      "16/16 [==============================] - 0s 6ms/step - loss: 0.7751 - val_loss: 0.7732\n",
      "Epoch 43/150\n",
      "16/16 [==============================] - 0s 6ms/step - loss: 0.7583 - val_loss: 0.7565\n",
      "Epoch 44/150\n",
      "16/16 [==============================] - 0s 6ms/step - loss: 0.7411 - val_loss: 0.7409\n",
      "Epoch 45/150\n",
      "16/16 [==============================] - 0s 6ms/step - loss: 0.7253 - val_loss: 0.7255\n",
      "Epoch 46/150\n",
      "16/16 [==============================] - 0s 6ms/step - loss: 0.7095 - val_loss: 0.7111\n",
      "Epoch 47/150\n",
      "16/16 [==============================] - 0s 6ms/step - loss: 0.6949 - val_loss: 0.6977\n",
      "Epoch 48/150\n",
      "16/16 [==============================] - 0s 6ms/step - loss: 0.6814 - val_loss: 0.6844\n",
      "Epoch 49/150\n",
      "16/16 [==============================] - 0s 6ms/step - loss: 0.6686 - val_loss: 0.6724\n",
      "Epoch 50/150\n",
      "16/16 [==============================] - 0s 6ms/step - loss: 0.6567 - val_loss: 0.6610\n",
      "Epoch 51/150\n",
      "16/16 [==============================] - 0s 6ms/step - loss: 0.6456 - val_loss: 0.6509\n",
      "Epoch 52/150\n",
      "16/16 [==============================] - 0s 6ms/step - loss: 0.6353 - val_loss: 0.6416\n",
      "Epoch 53/150\n",
      "16/16 [==============================] - 0s 6ms/step - loss: 0.6261 - val_loss: 0.6329\n",
      "Epoch 54/150\n",
      "16/16 [==============================] - 0s 6ms/step - loss: 0.6168 - val_loss: 0.6244\n",
      "Epoch 55/150\n",
      "16/16 [==============================] - 0s 6ms/step - loss: 0.6080 - val_loss: 0.6166\n",
      "Epoch 56/150\n",
      "16/16 [==============================] - 0s 6ms/step - loss: 0.6001 - val_loss: 0.6088\n",
      "Epoch 57/150\n",
      "16/16 [==============================] - 0s 6ms/step - loss: 0.5920 - val_loss: 0.6014\n",
      "Epoch 58/150\n",
      "16/16 [==============================] - 0s 6ms/step - loss: 0.5844 - val_loss: 0.5940\n",
      "Epoch 59/150\n",
      "16/16 [==============================] - 0s 6ms/step - loss: 0.5770 - val_loss: 0.5868\n",
      "Epoch 60/150\n",
      "16/16 [==============================] - 0s 6ms/step - loss: 0.5695 - val_loss: 0.5797\n",
      "Epoch 61/150\n",
      "16/16 [==============================] - 0s 6ms/step - loss: 0.5622 - val_loss: 0.5726\n",
      "Epoch 62/150\n",
      "16/16 [==============================] - 0s 6ms/step - loss: 0.5547 - val_loss: 0.5657\n",
      "Epoch 63/150\n",
      "16/16 [==============================] - 0s 6ms/step - loss: 0.5475 - val_loss: 0.5590\n",
      "Epoch 64/150\n",
      "16/16 [==============================] - 0s 6ms/step - loss: 0.5399 - val_loss: 0.5517\n",
      "Epoch 65/150\n",
      "16/16 [==============================] - 0s 6ms/step - loss: 0.5327 - val_loss: 0.5438\n",
      "Epoch 66/150\n",
      "16/16 [==============================] - 0s 6ms/step - loss: 0.5251 - val_loss: 0.5372\n",
      "Epoch 67/150\n",
      "16/16 [==============================] - 0s 6ms/step - loss: 0.5177 - val_loss: 0.5298\n",
      "Epoch 68/150\n",
      "16/16 [==============================] - 0s 8ms/step - loss: 0.5098 - val_loss: 0.5230\n",
      "Epoch 69/150\n",
      "16/16 [==============================] - 0s 7ms/step - loss: 0.5027 - val_loss: 0.5157\n",
      "Epoch 70/150\n",
      "16/16 [==============================] - 0s 8ms/step - loss: 0.4947 - val_loss: 0.5088\n",
      "Epoch 71/150\n",
      "16/16 [==============================] - 0s 8ms/step - loss: 0.4874 - val_loss: 0.5017\n",
      "Epoch 72/150\n",
      "16/16 [==============================] - 0s 6ms/step - loss: 0.4798 - val_loss: 0.4953\n",
      "Epoch 73/150\n",
      "16/16 [==============================] - 0s 6ms/step - loss: 0.4723 - val_loss: 0.4888\n",
      "Epoch 74/150\n",
      "16/16 [==============================] - 0s 6ms/step - loss: 0.4647 - val_loss: 0.4817\n",
      "Epoch 75/150\n",
      "16/16 [==============================] - 0s 8ms/step - loss: 0.4571 - val_loss: 0.4747\n",
      "Epoch 76/150\n",
      "16/16 [==============================] - 0s 6ms/step - loss: 0.4494 - val_loss: 0.4684\n",
      "Epoch 77/150\n",
      "16/16 [==============================] - 0s 6ms/step - loss: 0.4422 - val_loss: 0.4617\n",
      "Epoch 78/150\n",
      "16/16 [==============================] - 0s 6ms/step - loss: 0.4345 - val_loss: 0.4552\n",
      "Epoch 79/150\n",
      "16/16 [==============================] - 0s 6ms/step - loss: 0.4276 - val_loss: 0.4494\n",
      "Epoch 80/150\n",
      "16/16 [==============================] - 0s 6ms/step - loss: 0.4198 - val_loss: 0.4430\n",
      "Epoch 81/150\n",
      "16/16 [==============================] - 0s 6ms/step - loss: 0.4129 - val_loss: 0.4361\n",
      "Epoch 82/150\n",
      "16/16 [==============================] - 0s 6ms/step - loss: 0.4054 - val_loss: 0.4302\n",
      "Epoch 83/150\n",
      "16/16 [==============================] - 0s 6ms/step - loss: 0.3985 - val_loss: 0.4240\n",
      "Epoch 84/150\n",
      "16/16 [==============================] - 0s 6ms/step - loss: 0.3918 - val_loss: 0.4187\n",
      "Epoch 85/150\n",
      "16/16 [==============================] - 0s 7ms/step - loss: 0.3847 - val_loss: 0.4129\n",
      "Epoch 86/150\n",
      "16/16 [==============================] - 0s 6ms/step - loss: 0.3780 - val_loss: 0.4074\n",
      "Epoch 87/150\n",
      "16/16 [==============================] - 0s 6ms/step - loss: 0.3716 - val_loss: 0.4025\n",
      "Epoch 88/150\n",
      "16/16 [==============================] - 0s 6ms/step - loss: 0.3656 - val_loss: 0.3976\n",
      "Epoch 89/150\n",
      "16/16 [==============================] - 0s 6ms/step - loss: 0.3597 - val_loss: 0.3922\n",
      "Epoch 90/150\n",
      "16/16 [==============================] - 0s 6ms/step - loss: 0.3538 - val_loss: 0.3880\n",
      "Epoch 91/150\n",
      "16/16 [==============================] - 0s 8ms/step - loss: 0.3481 - val_loss: 0.3839\n",
      "Epoch 92/150\n",
      "16/16 [==============================] - 0s 7ms/step - loss: 0.3424 - val_loss: 0.3800\n",
      "Epoch 93/150\n",
      "16/16 [==============================] - 0s 6ms/step - loss: 0.3372 - val_loss: 0.3756\n",
      "Epoch 94/150\n",
      "16/16 [==============================] - 0s 6ms/step - loss: 0.3326 - val_loss: 0.3724\n",
      "Epoch 95/150\n",
      "16/16 [==============================] - 0s 6ms/step - loss: 0.3271 - val_loss: 0.3683\n",
      "Epoch 96/150\n",
      "16/16 [==============================] - 0s 6ms/step - loss: 0.3226 - val_loss: 0.3646\n",
      "Epoch 97/150\n",
      "16/16 [==============================] - 0s 6ms/step - loss: 0.3180 - val_loss: 0.3620\n",
      "Epoch 98/150\n",
      "16/16 [==============================] - 0s 6ms/step - loss: 0.3141 - val_loss: 0.3592\n",
      "Epoch 99/150\n",
      "16/16 [==============================] - 0s 6ms/step - loss: 0.3098 - val_loss: 0.3560\n",
      "Epoch 100/150\n",
      "16/16 [==============================] - 0s 6ms/step - loss: 0.3063 - val_loss: 0.3543\n",
      "Epoch 101/150\n",
      "16/16 [==============================] - 0s 6ms/step - loss: 0.3027 - val_loss: 0.3519\n",
      "Epoch 102/150\n",
      "16/16 [==============================] - 0s 6ms/step - loss: 0.2991 - val_loss: 0.3494\n",
      "Epoch 103/150\n",
      "16/16 [==============================] - 0s 6ms/step - loss: 0.2958 - val_loss: 0.3472\n",
      "Epoch 104/150\n",
      "16/16 [==============================] - 0s 6ms/step - loss: 0.2929 - val_loss: 0.3464\n",
      "Epoch 105/150\n",
      "16/16 [==============================] - 0s 7ms/step - loss: 0.2900 - val_loss: 0.3449\n",
      "Epoch 106/150\n",
      "16/16 [==============================] - 0s 6ms/step - loss: 0.2872 - val_loss: 0.3424\n",
      "Epoch 107/150\n",
      "16/16 [==============================] - 0s 6ms/step - loss: 0.2848 - val_loss: 0.3408\n",
      "Epoch 108/150\n",
      "16/16 [==============================] - 0s 6ms/step - loss: 0.2821 - val_loss: 0.3401\n",
      "Epoch 109/150\n",
      "16/16 [==============================] - 0s 6ms/step - loss: 0.2799 - val_loss: 0.3391\n",
      "Epoch 110/150\n",
      "16/16 [==============================] - 0s 6ms/step - loss: 0.2779 - val_loss: 0.3391\n",
      "Epoch 111/150\n",
      "16/16 [==============================] - 0s 6ms/step - loss: 0.2758 - val_loss: 0.3383\n",
      "Epoch 112/150\n",
      "16/16 [==============================] - 0s 6ms/step - loss: 0.2740 - val_loss: 0.3366\n",
      "Epoch 113/150\n",
      "16/16 [==============================] - 0s 6ms/step - loss: 0.2721 - val_loss: 0.3363\n",
      "Epoch 114/150\n",
      "16/16 [==============================] - 0s 6ms/step - loss: 0.2704 - val_loss: 0.3356\n",
      "Epoch 115/150\n",
      "16/16 [==============================] - 0s 6ms/step - loss: 0.2689 - val_loss: 0.3345\n",
      "Epoch 116/150\n",
      "16/16 [==============================] - 0s 6ms/step - loss: 0.2673 - val_loss: 0.3334\n",
      "Epoch 117/150\n",
      "16/16 [==============================] - 0s 6ms/step - loss: 0.2660 - val_loss: 0.3331\n",
      "Epoch 118/150\n",
      "16/16 [==============================] - 0s 6ms/step - loss: 0.2645 - val_loss: 0.3323\n",
      "Epoch 119/150\n",
      "16/16 [==============================] - 0s 6ms/step - loss: 0.2634 - val_loss: 0.3313\n",
      "Epoch 120/150\n",
      "16/16 [==============================] - 0s 6ms/step - loss: 0.2622 - val_loss: 0.3313\n",
      "Epoch 121/150\n",
      "16/16 [==============================] - 0s 6ms/step - loss: 0.2610 - val_loss: 0.3306\n",
      "Epoch 122/150\n",
      "16/16 [==============================] - 0s 6ms/step - loss: 0.2603 - val_loss: 0.3314\n",
      "Epoch 123/150\n",
      "16/16 [==============================] - 0s 6ms/step - loss: 0.2590 - val_loss: 0.3301\n",
      "Epoch 124/150\n",
      "16/16 [==============================] - 0s 6ms/step - loss: 0.2581 - val_loss: 0.3296\n",
      "Epoch 125/150\n",
      "16/16 [==============================] - 0s 6ms/step - loss: 0.2572 - val_loss: 0.3289\n",
      "Epoch 126/150\n",
      "16/16 [==============================] - 0s 6ms/step - loss: 0.2564 - val_loss: 0.3292\n",
      "Epoch 127/150\n",
      "16/16 [==============================] - 0s 6ms/step - loss: 0.2556 - val_loss: 0.3290\n",
      "Epoch 128/150\n",
      "16/16 [==============================] - 0s 6ms/step - loss: 0.2547 - val_loss: 0.3282\n",
      "Epoch 129/150\n",
      "16/16 [==============================] - 0s 6ms/step - loss: 0.2540 - val_loss: 0.3276\n",
      "Epoch 130/150\n",
      "16/16 [==============================] - 0s 6ms/step - loss: 0.2534 - val_loss: 0.3271\n",
      "Epoch 131/150\n",
      "16/16 [==============================] - 0s 6ms/step - loss: 0.2527 - val_loss: 0.3269\n",
      "Epoch 132/150\n",
      "16/16 [==============================] - 0s 6ms/step - loss: 0.2522 - val_loss: 0.3263\n",
      "Epoch 133/150\n",
      "16/16 [==============================] - 0s 6ms/step - loss: 0.2516 - val_loss: 0.3262\n",
      "Epoch 134/150\n",
      "16/16 [==============================] - 0s 6ms/step - loss: 0.2510 - val_loss: 0.3271\n",
      "Epoch 135/150\n",
      "16/16 [==============================] - 0s 6ms/step - loss: 0.2506 - val_loss: 0.3264\n",
      "Epoch 136/150\n",
      "16/16 [==============================] - 0s 7ms/step - loss: 0.2497 - val_loss: 0.3263\n",
      "Epoch 137/150\n",
      "16/16 [==============================] - 0s 7ms/step - loss: 0.2491 - val_loss: 0.3260\n",
      "Epoch 138/150\n",
      "16/16 [==============================] - 0s 7ms/step - loss: 0.2485 - val_loss: 0.3251\n",
      "Epoch 139/150\n",
      "16/16 [==============================] - 0s 6ms/step - loss: 0.2482 - val_loss: 0.3242\n",
      "Epoch 140/150\n",
      "16/16 [==============================] - 0s 6ms/step - loss: 0.2479 - val_loss: 0.3237\n",
      "Epoch 141/150\n",
      "16/16 [==============================] - 0s 6ms/step - loss: 0.2474 - val_loss: 0.3253\n",
      "Epoch 142/150\n",
      "16/16 [==============================] - 0s 6ms/step - loss: 0.2468 - val_loss: 0.3240\n",
      "Epoch 143/150\n",
      "16/16 [==============================] - 0s 6ms/step - loss: 0.2461 - val_loss: 0.3243\n",
      "Epoch 144/150\n",
      "16/16 [==============================] - 0s 6ms/step - loss: 0.2457 - val_loss: 0.3235\n",
      "Epoch 145/150\n",
      "16/16 [==============================] - 0s 6ms/step - loss: 0.2452 - val_loss: 0.3239\n",
      "Epoch 146/150\n",
      "16/16 [==============================] - 0s 6ms/step - loss: 0.2449 - val_loss: 0.3233\n",
      "Epoch 147/150\n",
      "16/16 [==============================] - 0s 6ms/step - loss: 0.2444 - val_loss: 0.3232\n",
      "Epoch 148/150\n",
      "16/16 [==============================] - 0s 6ms/step - loss: 0.2441 - val_loss: 0.3226\n",
      "Epoch 149/150\n",
      "16/16 [==============================] - 0s 6ms/step - loss: 0.2436 - val_loss: 0.3226\n",
      "Epoch 150/150\n",
      "16/16 [==============================] - 0s 6ms/step - loss: 0.2431 - val_loss: 0.3220\n",
      "11/11 [==============================] - 0s 2ms/step\n"
     ]
    },
    {
     "data": {
      "image/png": "[encoded data removed]",
      "text/plain": [
       "<Figure size 432x288 with 1 Axes>"
      ]
     },
     "metadata": {
      "needs_background": "light"
     },
     "output_type": "display_data"
    },
    {
     "name": "stdout",
     "output_type": "stream",
     "text": [
      "mse: 0.32202964762018377\n",
      "rmse: 0.5674765612958687\n",
      "relative: 5749.03857421875 %\n",
      "mae: 0.3831345308906208\n",
      "corr:0.824351058346981\n",
      "sq_corr:0.6779703523798162\n",
      "\n"
     ]
    },
    {
     "data": {
      "text/plain": [
       "[0.32202964762018377,\n",
       " 0.5674765612958687,\n",
       " 5749.0386,\n",
       " 0.3831345308906208,\n",
       " 0.824351058346981,\n",
       " 0.6779703523798162]"
      ]
     },
     "execution_count": 94,
     "metadata": {},
     "output_type": "execute_result"
    }
   ],
   "source": [
    "def _compile_model(X_train,y_train,X_test,y_test,epochs,batch_size):\n",
    "    model = Sequential()\n",
    "    model.add(Dense(15, input_shape=(X_train[0].shape[0],),kernel_initializer='RandomNormal', activation='relu'))\n",
    "    model.add(Dense(17,kernel_initializer='RandomNormal', activation='relu'))\n",
    "    model.add(Dense(10,kernel_initializer='RandomNormal', activation='relu'))\n",
    "    model.add(Dense(7,kernel_initializer='RandomNormal', activation='relu'))\n",
    "    model.add(Dense(1,kernel_initializer='RandomNormal',activation='linear'))\n",
    "\n",
    "    # Compile model\n",
    "    model.compile(loss='mean_squared_error', optimizer=Adam(0.0001))\n",
    "    model.fit(X_train, y_train,epochs=epochs,batch_size=batch_size,validation_data=(X_test,y_test))\n",
    "    \n",
    "    history=model.history\n",
    "    y_pred=model.predict(X_test)\n",
    "    r2=r2_score(y_test,y_pred)\n",
    "    return history , r2 , y_pred,model\n",
    "history , r2 , y_pred,model=_compile_model(X_train.values,y_train.values,X_test.values,y_test.values,150,30)\n",
    "\n",
    "plt.plot(history.history['loss'])\n",
    "plt.plot(history.history['val_loss'])\n",
    "plt.legend(['loss','val_loss'])\n",
    "plt.show()\n",
    "_errors(y_test.values,y_pred)"
   ]
  },
  {
   "attachments": {},
   "cell_type": "markdown",
   "metadata": {},
   "source": [
    "## Hybrid model"
   ]
  },
  {
   "cell_type": "code",
   "execution_count": 90,
   "metadata": {},
   "outputs": [
    {
     "name": "stdout",
     "output_type": "stream",
     "text": [
      "Epoch 1/100\n",
      "167/167 [==============================] - 1s 4ms/step - loss: 0.9994 - val_loss: 0.9971\n",
      "Epoch 2/100\n",
      "167/167 [==============================] - 0s 3ms/step - loss: 0.9653 - val_loss: 0.9093\n",
      "Epoch 3/100\n",
      "167/167 [==============================] - 0s 3ms/step - loss: 0.7286 - val_loss: 0.5804\n",
      "Epoch 4/100\n",
      "167/167 [==============================] - 0s 3ms/step - loss: 0.3854 - val_loss: 0.4047\n",
      "Epoch 5/100\n",
      "167/167 [==============================] - 0s 3ms/step - loss: 0.2792 - val_loss: 0.3753\n",
      "Epoch 6/100\n",
      "167/167 [==============================] - 0s 3ms/step - loss: 0.2482 - val_loss: 0.3644\n",
      "Epoch 7/100\n",
      "167/167 [==============================] - 0s 3ms/step - loss: 0.2288 - val_loss: 0.3589\n",
      "Epoch 8/100\n",
      "167/167 [==============================] - 0s 3ms/step - loss: 0.2151 - val_loss: 0.3550\n",
      "Epoch 9/100\n",
      "167/167 [==============================] - 0s 3ms/step - loss: 0.2049 - val_loss: 0.3540\n",
      "Epoch 10/100\n",
      "167/167 [==============================] - 0s 3ms/step - loss: 0.1964 - val_loss: 0.3518\n",
      "Epoch 11/100\n",
      "167/167 [==============================] - 0s 3ms/step - loss: 0.1891 - val_loss: 0.3524\n",
      "Epoch 12/100\n",
      "167/167 [==============================] - 0s 3ms/step - loss: 0.1828 - val_loss: 0.3495\n",
      "Epoch 13/100\n",
      "167/167 [==============================] - 0s 3ms/step - loss: 0.1777 - val_loss: 0.3487\n",
      "Epoch 14/100\n",
      "167/167 [==============================] - 0s 3ms/step - loss: 0.1729 - val_loss: 0.3525\n",
      "Epoch 15/100\n",
      "167/167 [==============================] - 0s 3ms/step - loss: 0.1690 - val_loss: 0.3508\n",
      "Epoch 16/100\n",
      "167/167 [==============================] - 0s 3ms/step - loss: 0.1655 - val_loss: 0.3487\n",
      "Epoch 17/100\n",
      "167/167 [==============================] - 0s 3ms/step - loss: 0.1626 - val_loss: 0.3494\n",
      "Epoch 18/100\n",
      "167/167 [==============================] - 0s 3ms/step - loss: 0.1600 - val_loss: 0.3463\n",
      "Epoch 19/100\n",
      "167/167 [==============================] - 0s 3ms/step - loss: 0.1579 - val_loss: 0.3461\n",
      "Epoch 20/100\n",
      "167/167 [==============================] - 0s 3ms/step - loss: 0.1557 - val_loss: 0.3445\n",
      "Epoch 21/100\n",
      "167/167 [==============================] - 0s 3ms/step - loss: 0.1536 - val_loss: 0.3422\n",
      "Epoch 22/100\n",
      "167/167 [==============================] - 0s 3ms/step - loss: 0.1520 - val_loss: 0.3395\n",
      "Epoch 23/100\n",
      "167/167 [==============================] - 0s 3ms/step - loss: 0.1505 - val_loss: 0.3376\n",
      "Epoch 24/100\n",
      "167/167 [==============================] - 0s 3ms/step - loss: 0.1487 - val_loss: 0.3345\n",
      "Epoch 25/100\n",
      "167/167 [==============================] - 0s 3ms/step - loss: 0.1474 - val_loss: 0.3323\n",
      "Epoch 26/100\n",
      "167/167 [==============================] - 0s 3ms/step - loss: 0.1462 - val_loss: 0.3277\n",
      "Epoch 27/100\n",
      "167/167 [==============================] - 0s 3ms/step - loss: 0.1445 - val_loss: 0.3270\n",
      "Epoch 28/100\n",
      "167/167 [==============================] - 0s 3ms/step - loss: 0.1435 - val_loss: 0.3255\n",
      "Epoch 29/100\n",
      "167/167 [==============================] - 0s 3ms/step - loss: 0.1419 - val_loss: 0.3231\n",
      "Epoch 30/100\n",
      "167/167 [==============================] - 0s 3ms/step - loss: 0.1406 - val_loss: 0.3197\n",
      "Epoch 31/100\n",
      "167/167 [==============================] - 0s 3ms/step - loss: 0.1392 - val_loss: 0.3172\n",
      "Epoch 32/100\n",
      "167/167 [==============================] - 1s 4ms/step - loss: 0.1380 - val_loss: 0.3159\n",
      "Epoch 33/100\n",
      "167/167 [==============================] - 0s 3ms/step - loss: 0.1360 - val_loss: 0.3110\n",
      "Epoch 34/100\n",
      "167/167 [==============================] - 0s 3ms/step - loss: 0.1347 - val_loss: 0.3123\n",
      "Epoch 35/100\n",
      "167/167 [==============================] - 0s 3ms/step - loss: 0.1335 - val_loss: 0.3089\n",
      "Epoch 36/100\n",
      "167/167 [==============================] - 0s 3ms/step - loss: 0.1322 - val_loss: 0.3056\n",
      "Epoch 37/100\n",
      "167/167 [==============================] - 0s 3ms/step - loss: 0.1307 - val_loss: 0.3051\n",
      "Epoch 38/100\n",
      "167/167 [==============================] - 0s 3ms/step - loss: 0.1295 - val_loss: 0.3037\n",
      "Epoch 39/100\n",
      "167/167 [==============================] - 0s 3ms/step - loss: 0.1285 - val_loss: 0.3038\n",
      "Epoch 40/100\n",
      "167/167 [==============================] - 0s 3ms/step - loss: 0.1276 - val_loss: 0.3004\n",
      "Epoch 41/100\n",
      "167/167 [==============================] - 0s 3ms/step - loss: 0.1266 - val_loss: 0.3011\n",
      "Epoch 42/100\n",
      "167/167 [==============================] - 0s 3ms/step - loss: 0.1258 - val_loss: 0.2996\n",
      "Epoch 43/100\n",
      "167/167 [==============================] - 0s 3ms/step - loss: 0.1254 - val_loss: 0.3009\n",
      "Epoch 44/100\n",
      "167/167 [==============================] - 0s 3ms/step - loss: 0.1244 - val_loss: 0.3003\n",
      "Epoch 45/100\n",
      "167/167 [==============================] - 0s 3ms/step - loss: 0.1234 - val_loss: 0.2990\n",
      "Epoch 46/100\n",
      "167/167 [==============================] - 0s 3ms/step - loss: 0.1232 - val_loss: 0.2965\n",
      "Epoch 47/100\n",
      "167/167 [==============================] - 0s 3ms/step - loss: 0.1223 - val_loss: 0.2975\n",
      "Epoch 48/100\n",
      "167/167 [==============================] - 0s 3ms/step - loss: 0.1217 - val_loss: 0.2980\n",
      "Epoch 49/100\n",
      "167/167 [==============================] - 0s 3ms/step - loss: 0.1210 - val_loss: 0.2973\n",
      "Epoch 50/100\n",
      "167/167 [==============================] - 0s 3ms/step - loss: 0.1205 - val_loss: 0.2946\n",
      "Epoch 51/100\n",
      "167/167 [==============================] - 0s 3ms/step - loss: 0.1199 - val_loss: 0.2957\n",
      "Epoch 52/100\n",
      "167/167 [==============================] - 0s 3ms/step - loss: 0.1196 - val_loss: 0.2948\n",
      "Epoch 53/100\n",
      "167/167 [==============================] - 0s 3ms/step - loss: 0.1191 - val_loss: 0.2951\n",
      "Epoch 54/100\n",
      "167/167 [==============================] - 0s 3ms/step - loss: 0.1189 - val_loss: 0.2943\n",
      "Epoch 55/100\n",
      "167/167 [==============================] - 0s 3ms/step - loss: 0.1183 - val_loss: 0.2929\n",
      "Epoch 56/100\n",
      "167/167 [==============================] - 0s 3ms/step - loss: 0.1175 - val_loss: 0.2938\n",
      "Epoch 57/100\n",
      "167/167 [==============================] - 0s 3ms/step - loss: 0.1175 - val_loss: 0.2919\n",
      "Epoch 58/100\n",
      "167/167 [==============================] - 0s 3ms/step - loss: 0.1171 - val_loss: 0.2907\n",
      "Epoch 59/100\n",
      "167/167 [==============================] - 0s 3ms/step - loss: 0.1161 - val_loss: 0.2912\n",
      "Epoch 60/100\n",
      "167/167 [==============================] - 0s 3ms/step - loss: 0.1163 - val_loss: 0.2920\n",
      "Epoch 61/100\n",
      "167/167 [==============================] - 0s 3ms/step - loss: 0.1156 - val_loss: 0.2882\n",
      "Epoch 62/100\n",
      "167/167 [==============================] - 0s 3ms/step - loss: 0.1154 - val_loss: 0.2894\n",
      "Epoch 63/100\n",
      "167/167 [==============================] - 0s 3ms/step - loss: 0.1152 - val_loss: 0.2893\n",
      "Epoch 64/100\n",
      "167/167 [==============================] - 0s 3ms/step - loss: 0.1148 - val_loss: 0.2882\n",
      "Epoch 65/100\n",
      "167/167 [==============================] - 0s 3ms/step - loss: 0.1142 - val_loss: 0.2910\n",
      "Epoch 66/100\n",
      "167/167 [==============================] - 0s 3ms/step - loss: 0.1140 - val_loss: 0.2883\n",
      "Epoch 67/100\n",
      "167/167 [==============================] - 0s 3ms/step - loss: 0.1137 - val_loss: 0.2884\n",
      "Epoch 68/100\n",
      "167/167 [==============================] - 0s 3ms/step - loss: 0.1135 - val_loss: 0.2895\n",
      "Epoch 69/100\n",
      "167/167 [==============================] - 0s 3ms/step - loss: 0.1130 - val_loss: 0.2909\n",
      "Epoch 70/100\n",
      "167/167 [==============================] - 0s 3ms/step - loss: 0.1128 - val_loss: 0.2881\n",
      "Epoch 71/100\n",
      "167/167 [==============================] - 0s 3ms/step - loss: 0.1127 - val_loss: 0.2881\n",
      "Epoch 72/100\n",
      "167/167 [==============================] - 0s 3ms/step - loss: 0.1124 - val_loss: 0.2846\n",
      "Epoch 73/100\n",
      "167/167 [==============================] - 0s 3ms/step - loss: 0.1119 - val_loss: 0.2865\n",
      "Epoch 74/100\n",
      "167/167 [==============================] - 0s 3ms/step - loss: 0.1117 - val_loss: 0.2869\n",
      "Epoch 75/100\n",
      "167/167 [==============================] - 0s 3ms/step - loss: 0.1118 - val_loss: 0.2855\n",
      "Epoch 76/100\n",
      "167/167 [==============================] - 1s 3ms/step - loss: 0.1112 - val_loss: 0.2905\n",
      "Epoch 77/100\n",
      "167/167 [==============================] - 0s 3ms/step - loss: 0.1108 - val_loss: 0.2909\n",
      "Epoch 78/100\n",
      "167/167 [==============================] - 0s 3ms/step - loss: 0.1106 - val_loss: 0.2850\n",
      "Epoch 79/100\n",
      "167/167 [==============================] - 1s 3ms/step - loss: 0.1108 - val_loss: 0.2868\n",
      "Epoch 80/100\n",
      "167/167 [==============================] - 0s 3ms/step - loss: 0.1102 - val_loss: 0.2838\n",
      "Epoch 81/100\n",
      "167/167 [==============================] - 0s 3ms/step - loss: 0.1102 - val_loss: 0.2883\n",
      "Epoch 82/100\n",
      "167/167 [==============================] - 0s 3ms/step - loss: 0.1097 - val_loss: 0.2884\n",
      "Epoch 83/100\n",
      "167/167 [==============================] - 0s 3ms/step - loss: 0.1093 - val_loss: 0.2908\n",
      "Epoch 84/100\n",
      "167/167 [==============================] - 0s 3ms/step - loss: 0.1095 - val_loss: 0.2863\n",
      "Epoch 85/100\n",
      "167/167 [==============================] - 0s 3ms/step - loss: 0.1091 - val_loss: 0.2846\n",
      "Epoch 86/100\n",
      "167/167 [==============================] - 1s 3ms/step - loss: 0.1087 - val_loss: 0.2864\n",
      "Epoch 87/100\n",
      "167/167 [==============================] - 0s 3ms/step - loss: 0.1085 - val_loss: 0.2836\n",
      "Epoch 88/100\n",
      "167/167 [==============================] - 0s 3ms/step - loss: 0.1083 - val_loss: 0.2865\n",
      "Epoch 89/100\n",
      "167/167 [==============================] - 0s 3ms/step - loss: 0.1078 - val_loss: 0.2862\n",
      "Epoch 90/100\n",
      "167/167 [==============================] - 1s 3ms/step - loss: 0.1080 - val_loss: 0.2894\n",
      "Epoch 91/100\n",
      "167/167 [==============================] - 0s 3ms/step - loss: 0.1076 - val_loss: 0.2842\n",
      "Epoch 92/100\n",
      "167/167 [==============================] - 0s 3ms/step - loss: 0.1074 - val_loss: 0.2854\n",
      "Epoch 93/100\n",
      "167/167 [==============================] - 0s 3ms/step - loss: 0.1072 - val_loss: 0.2893\n",
      "Epoch 94/100\n",
      "167/167 [==============================] - 0s 3ms/step - loss: 0.1070 - val_loss: 0.2905\n",
      "Epoch 95/100\n",
      "167/167 [==============================] - 0s 3ms/step - loss: 0.1068 - val_loss: 0.2871\n",
      "Epoch 96/100\n",
      "167/167 [==============================] - 0s 3ms/step - loss: 0.1065 - val_loss: 0.2864\n",
      "Epoch 97/100\n",
      "167/167 [==============================] - 0s 3ms/step - loss: 0.1063 - val_loss: 0.2868\n",
      "Epoch 98/100\n",
      "167/167 [==============================] - 0s 3ms/step - loss: 0.1064 - val_loss: 0.2924\n",
      "Epoch 99/100\n",
      "167/167 [==============================] - 0s 3ms/step - loss: 0.1061 - val_loss: 0.2897\n",
      "Epoch 100/100\n",
      "167/167 [==============================] - 0s 3ms/step - loss: 0.1059 - val_loss: 0.2919\n"
     ]
    },
    {
     "data": {
      "text/plain": [
       "<keras.callbacks.History at 0x7ff6087733d0>"
      ]
     },
     "execution_count": 90,
     "metadata": {},
     "output_type": "execute_result"
    }
   ],
   "source": [
    "model = Sequential()\n",
    "model.add(Dense(15, input_shape=(X_train[0].shape[0],),kernel_initializer='RandomNormal', activation='relu'))\n",
    "model.add(Dense(17,kernel_initializer='RandomNormal', activation='relu'))\n",
    "model.add(Dense(20,kernel_initializer='RandomNormal', activation='relu'))\n",
    "model.add(Dense(30,kernel_initializer='RandomNormal', activation='relu'))\n",
    "model.add(Dense(40,kernel_initializer='RandomNormal',activation='linear'))\n",
    "\n",
    "# Compile model\n",
    "model.compile(loss='mean_squared_error', optimizer=Adam(0.0001))\n",
    "model.fit(X_train, y_train,epochs=100,batch_size=30,validation_data=(X_test,y_test))\n"
   ]
  },
  {
   "cell_type": "code",
   "execution_count": 91,
   "metadata": {},
   "outputs": [
    {
     "name": "stdout",
     "output_type": "stream",
     "text": [
      "157/157 [==============================] - 0s 2ms/step\n",
      "9/9 [==============================] - 0s 2ms/step\n"
     ]
    },
    {
     "data": {
      "text/plain": [
       "(5000, 40)"
      ]
     },
     "execution_count": 91,
     "metadata": {},
     "output_type": "execute_result"
    }
   ],
   "source": [
    "nnf_train=model.predict(X_train)\n",
    "nnf_test=model.predict(X_test)\n",
    "nnf_train.shape"
   ]
  },
  {
   "cell_type": "code",
   "execution_count": null,
   "metadata": {},
   "outputs": [],
   "source": []
  },
  {
   "attachments": {},
   "cell_type": "markdown",
   "metadata": {},
   "source": [
    "# Inverse values"
   ]
  },
  {
   "cell_type": "code",
   "execution_count": 158,
   "metadata": {},
   "outputs": [
    {
     "name": "stdout",
     "output_type": "stream",
     "text": [
      "(605, 11) (461, 11)\n",
      "(510, 4) (383, 4)\n"
     ]
    }
   ],
   "source": [
    "train,test=_load_data()\n",
    "# dataset type\n",
    "train , test = _dataset_type(train, test,type='ds3')\n",
    "# drop outliers\n",
    "train,test=_drop_outliers(train , test,drop_test=True)\n",
    "\n",
    "mean=[]\n",
    "std=[]\n",
    "for item in test.index:\n",
    "    mean.append(np.mean(list(test.loc[item,:])))\n",
    "    std.append(np.std(list(test.loc[item,:])))"
   ]
  },
  {
   "cell_type": "code",
   "execution_count": 159,
   "metadata": {},
   "outputs": [],
   "source": [
    "test['mean']=mean\n",
    "test['std']=std\n",
    "test.to_excel('ds1_mean.xlsx')"
   ]
  },
  {
   "cell_type": "code",
   "execution_count": null,
   "metadata": {},
   "outputs": [],
   "source": []
  }
 ],
 "metadata": {
  "kernelspec": {
   "display_name": "Python 3",
   "language": "python",
   "name": "python3"
  },
  "language_info": {
   "codemirror_mode": {
    "name": "ipython",
    "version": 3
   },
   "file_extension": ".py",
   "mimetype": "text/x-python",
   "name": "python",
   "nbconvert_exporter": "python",
   "pygments_lexer": "ipython3",
   "version": "3.10.6"
  },
  "orig_nbformat": 4,
  "vscode": {
   "interpreter": {
    "hash": "916dbcbb3f70747c44a77c7bcd40155683ae19c65e1c03b4aa3499c5328201f1"
   }
  }
 },
 "nbformat": 4,
 "nbformat_minor": 2
}
