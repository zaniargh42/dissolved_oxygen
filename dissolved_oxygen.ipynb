{
 "cells": [
  {
   "cell_type": "code",
   "execution_count": null,
   "metadata": {},
   "outputs": [],
   "source": [
    "import pandas as pd\n",
    "import numpy as np\n",
    "import matplotlib.pyplot as plt\n",
    "from sklearn.preprocessing import StandardScaler\n",
    "from keras.models import Sequential \n",
    "from keras.layers import Dense  ,Dropout\n",
    "from keras.optimizers import Adam\n",
    "from sklearn.metrics import r2_score\n",
    "from tqdm import tqdm\n",
    "from lazypredict.Supervised import LazyRegressor\n"
   ]
  },
  {
   "attachments": {},
   "cell_type": "markdown",
   "metadata": {},
   "source": [
    "# Prepare"
   ]
  },
  {
   "cell_type": "code",
   "execution_count": 223,
   "metadata": {},
   "outputs": [],
   "source": [
    "def _load_data():\n",
    "    train=pd.read_excel('Data set - Tisa.xlsx',sheet_name='Training set 2011-2015')\n",
    "    train.columns=['temperature', 'solids', 'dissolved_oxygen', 'pH','electrical', 'NH4', 'NO2', 'NO3', 'TN', 'PO4P', 'BOD5']\n",
    "    train=train.drop(list(train[train.isna().any(axis=1)].index),axis=0)\n",
    "\n",
    "    test=pd.read_excel('Data set - Tisa.xlsx',sheet_name='Testing set 2016-2019 ')\n",
    "    test.columns=['temperature', 'solids', 'dissolved_oxygen', 'pH','electrical', 'NH4', 'NO2', 'NO3', 'TN', 'PO4P', 'BOD5']\n",
    "    test=test.drop(list(test[test.isna().any(axis=1)].index),axis=0)\n",
    "\n",
    "    print(train.shape,test.shape)\n",
    "    return train , test\n",
    "\n",
    "def _prepare_data(data):\n",
    "    X_train=data.drop(['dissolved_oxygen'],axis=1)\n",
    "    y_train=data.dissolved_oxygen\n",
    "    return X_train , y_train\n",
    "\n",
    "def _scale_data(X_train,y_train):\n",
    "    X_scaler=StandardScaler()\n",
    "    X_train_scaled=X_scaler.fit_transform(X_train)\n",
    "    y_scaler=StandardScaler()\n",
    "    y_train_scaled=y_scaler.fit_transform(np.array(y_train).reshape(-1,1))\n",
    "    print(X_train_scaled.shape, y_train_scaled.shape)\n",
    "    return X_train_scaled,y_train_scaled , X_scaler , y_scaler\n",
    "\n",
    "def r_squared(y, y_hat):\n",
    "    y_bar = y.mean()\n",
    "    ss_tot = ((y-y_bar)**2).sum()\n",
    "    ss_res = ((y-y_hat)**2).sum()\n",
    "    return 1 - (ss_res/ss_tot)"
   ]
  },
  {
   "attachments": {},
   "cell_type": "markdown",
   "metadata": {},
   "source": [
    "# Model\n"
   ]
  },
  {
   "cell_type": "code",
   "execution_count": null,
   "metadata": {},
   "outputs": [],
   "source": [
    "model = Sequential()\n",
    "model.add(Dense(10, input_shape=(X_train[0].shape[0],), kernel_initializer='normal', activation='relu'))\n",
    "model.add(Dense(1, kernel_initializer='normal'))\n",
    "# Compile model\n",
    "model.compile(loss='mean_squared_error', optimizer='adam')\n",
    "# model.fit(X_train, y_train,epochs=10,batch_size=8)\n",
    "\n",
    "KerasRegressor(model=model, epochs=100, batch_size=5, verbose=0).fit(X_train, y_train)\n"
   ]
  },
  {
   "attachments": {},
   "cell_type": "markdown",
   "metadata": {},
   "source": [
    "we have some missing values here"
   ]
  },
  {
   "cell_type": "code",
   "execution_count": null,
   "metadata": {},
   "outputs": [],
   "source": [
    "nonul_train=train.drop(list(train[train.isna().any(axis=1)].index),axis=0)\n",
    "X_train,y_train=_prepare_data(nonul_train)\n",
    "X_train,y_train , X_scaler , y_scaler=_scale_data(X_train,y_train)\n",
    "\n"
   ]
  },
  {
   "cell_type": "code",
   "execution_count": null,
   "metadata": {},
   "outputs": [],
   "source": [
    "nonul_test=test.drop(list(test[test.isna().any(axis=1)].index),axis=0)\n",
    "X_test,y_test=_prepare_data(nonul_test)\n",
    "\n",
    "X_test=X_scaler.transform(X_test)\n",
    "y_test=y_scaler.transform(np.array(y_test).reshape(-1,1))\n"
   ]
  },
  {
   "attachments": {},
   "cell_type": "markdown",
   "metadata": {},
   "source": [
    "let's create the model and compile it"
   ]
  },
  {
   "cell_type": "code",
   "execution_count": null,
   "metadata": {},
   "outputs": [],
   "source": [
    "def _compile_model(X_train,y_train,X_test,y_test,epochs,batch_size):\n",
    "    model = Sequential()\n",
    "    model.add(Dense(X_train[0].shape[0], input_shape=(X_train[0].shape[0],), kernel_initializer='normal', activation='relu'))\n",
    "    model.add(Dense(1, kernel_initializer='normal'))\n",
    "    # Compile model\n",
    "    model.compile(loss='mean_squared_error', optimizer='adam')\n",
    "    model.fit(X_train, y_train,epochs=epochs,batch_size=batch_size,validation_data=(X_test,y_test))\n",
    "    history=model.history\n",
    "    y_pred=model.predict(X_test)\n",
    "    r2=r2_score(y_test,y_pred)\n",
    "    return history , r2\n"
   ]
  },
  {
   "cell_type": "code",
   "execution_count": null,
   "metadata": {},
   "outputs": [],
   "source": [
    "history , r2=_compile_model(X_train,y_train,X_test,y_test,80,32)"
   ]
  },
  {
   "attachments": {},
   "cell_type": "markdown",
   "metadata": {},
   "source": [
    "batch size itrator"
   ]
  },
  {
   "cell_type": "code",
   "execution_count": null,
   "metadata": {},
   "outputs": [],
   "source": [
    "r2_all=[]\n",
    "for item in tqdm([8,16,32,64,128,256,512]):\n",
    "    history , r2=_compile_model(X_train,y_train,X_test,y_test,80,item)\n",
    "    r2_all.append(r2)"
   ]
  },
  {
   "cell_type": "code",
   "execution_count": null,
   "metadata": {},
   "outputs": [],
   "source": [
    "plt.bar(range(7),r2_all)\n",
    "plt.xticks(range(7),[8,16,32,64,128,256,512])\n",
    "plt.xlabel('batch_size')\n",
    "plt.ylabel('R_squared')\n",
    "plt.show()"
   ]
  },
  {
   "attachments": {},
   "cell_type": "markdown",
   "metadata": {},
   "source": [
    "epochs"
   ]
  },
  {
   "cell_type": "code",
   "execution_count": null,
   "metadata": {},
   "outputs": [],
   "source": [
    "# r2_all=[]\n",
    "for item in tqdm(range(150,200,10)):\n",
    "    history , r2=_compile_model(X_train,y_train,X_test,y_test,item,8)\n",
    "    r2_all.append(r2)"
   ]
  },
  {
   "cell_type": "code",
   "execution_count": null,
   "metadata": {},
   "outputs": [],
   "source": [
    "plt.bar(range(len(r2_all)),r2_all)\n",
    "plt.xticks(range(len(r2_all)),range(10,200,10))\n",
    "plt.xlabel('epochs')\n",
    "plt.ylabel('R_squared')\n",
    "plt.show()"
   ]
  },
  {
   "attachments": {},
   "cell_type": "markdown",
   "metadata": {},
   "source": [
    "# The best we have"
   ]
  },
  {
   "cell_type": "code",
   "execution_count": null,
   "metadata": {},
   "outputs": [],
   "source": [
    "x=X_test[:100,:]\n",
    "y=y_test[:100,:]"
   ]
  },
  {
   "cell_type": "code",
   "execution_count": null,
   "metadata": {},
   "outputs": [],
   "source": [
    "history , r2=_compile_model(X_train,y_train,x,y,100,8)"
   ]
  },
  {
   "cell_type": "code",
   "execution_count": null,
   "metadata": {},
   "outputs": [],
   "source": [
    "r2"
   ]
  },
  {
   "cell_type": "code",
   "execution_count": null,
   "metadata": {},
   "outputs": [],
   "source": [
    "plt.plot(history.history['loss'])\n",
    "plt.plot(history.history['val_loss'])\n",
    "plt.legend(['loss','val_loss'])\n",
    "plt.show()"
   ]
  },
  {
   "attachments": {},
   "cell_type": "markdown",
   "metadata": {},
   "source": [
    "# ANN Model\n",
    "it gives us r2=0.36"
   ]
  },
  {
   "cell_type": "code",
   "execution_count": 224,
   "metadata": {},
   "outputs": [
    {
     "name": "stdout",
     "output_type": "stream",
     "text": [
      "(605, 11) (461, 11)\n"
     ]
    }
   ],
   "source": [
    "train , test =_load_data()"
   ]
  },
  {
   "cell_type": "code",
   "execution_count": 227,
   "metadata": {},
   "outputs": [
    {
     "name": "stdout",
     "output_type": "stream",
     "text": [
      "(605, 10) (605, 1)\n"
     ]
    }
   ],
   "source": [
    "X_train,y_train=_prepare_data(train)\n",
    "X_train,y_train , X_scaler , y_scaler=_scale_data(X_train,y_train)\n",
    "\n",
    "X_test,y_test=_prepare_data(test)\n",
    "# to set a new scaler\n",
    "# X_test_scaler=StandardScaler()\n",
    "# y_test_scaler=StandardScaler()\n",
    "# X_test=X_test_scaler.fit_transform(X_test)\n",
    "# y_test=y_test_scaler.fit_transform(np.array(y_test).reshape(-1,1))\n",
    "\n",
    "#to scale by the train scaler\n",
    "X_test=X_scaler.transform(X_test)\n",
    "y_test=y_scaler.transform(np.array(y_test).reshape(-1,1))"
   ]
  },
  {
   "cell_type": "code",
   "execution_count": 228,
   "metadata": {},
   "outputs": [
    {
     "name": "stdout",
     "output_type": "stream",
     "text": [
      "Epoch 1/70\n",
      "76/76 [==============================] - 2s 13ms/step - loss: 1.0000 - val_loss: 0.7754\n",
      "Epoch 2/70\n",
      "76/76 [==============================] - 1s 8ms/step - loss: 1.0000 - val_loss: 0.7754\n",
      "Epoch 3/70\n",
      "76/76 [==============================] - 1s 7ms/step - loss: 1.0000 - val_loss: 0.7753\n",
      "Epoch 4/70\n",
      "76/76 [==============================] - 0s 6ms/step - loss: 0.9996 - val_loss: 0.7747\n",
      "Epoch 5/70\n",
      "76/76 [==============================] - 0s 6ms/step - loss: 0.9984 - val_loss: 0.7725\n",
      "Epoch 6/70\n",
      "76/76 [==============================] - 0s 6ms/step - loss: 0.9946 - val_loss: 0.7670\n",
      "Epoch 7/70\n",
      "76/76 [==============================] - 0s 5ms/step - loss: 0.9857 - val_loss: 0.7537\n",
      "Epoch 8/70\n",
      "76/76 [==============================] - 0s 6ms/step - loss: 0.9677 - val_loss: 0.7302\n",
      "Epoch 9/70\n",
      "76/76 [==============================] - 0s 6ms/step - loss: 0.9396 - val_loss: 0.6989\n",
      "Epoch 10/70\n",
      "76/76 [==============================] - 0s 7ms/step - loss: 0.9089 - val_loss: 0.6662\n",
      "Epoch 11/70\n",
      "76/76 [==============================] - 0s 6ms/step - loss: 0.8797 - val_loss: 0.6377\n",
      "Epoch 12/70\n",
      "76/76 [==============================] - 1s 7ms/step - loss: 0.8505 - val_loss: 0.6093\n",
      "Epoch 13/70\n",
      "76/76 [==============================] - 0s 6ms/step - loss: 0.8203 - val_loss: 0.5833\n",
      "Epoch 14/70\n",
      "76/76 [==============================] - 1s 7ms/step - loss: 0.7919 - val_loss: 0.5574\n",
      "Epoch 15/70\n",
      "76/76 [==============================] - 0s 6ms/step - loss: 0.7663 - val_loss: 0.5402\n",
      "Epoch 16/70\n",
      "76/76 [==============================] - 1s 7ms/step - loss: 0.7497 - val_loss: 0.5290\n",
      "Epoch 17/70\n",
      "76/76 [==============================] - 0s 5ms/step - loss: 0.7393 - val_loss: 0.5231\n",
      "Epoch 18/70\n",
      "76/76 [==============================] - 0s 4ms/step - loss: 0.7341 - val_loss: 0.5208\n",
      "Epoch 19/70\n",
      "76/76 [==============================] - 0s 5ms/step - loss: 0.7305 - val_loss: 0.5184\n",
      "Epoch 20/70\n",
      "76/76 [==============================] - 0s 5ms/step - loss: 0.7275 - val_loss: 0.5174\n",
      "Epoch 21/70\n",
      "76/76 [==============================] - 0s 5ms/step - loss: 0.7258 - val_loss: 0.5168\n",
      "Epoch 22/70\n",
      "76/76 [==============================] - 0s 6ms/step - loss: 0.7235 - val_loss: 0.5160\n",
      "Epoch 23/70\n",
      "76/76 [==============================] - 0s 4ms/step - loss: 0.7220 - val_loss: 0.5156\n",
      "Epoch 24/70\n",
      "76/76 [==============================] - 0s 5ms/step - loss: 0.7206 - val_loss: 0.5152\n",
      "Epoch 25/70\n",
      "76/76 [==============================] - 0s 4ms/step - loss: 0.7195 - val_loss: 0.5149\n",
      "Epoch 26/70\n",
      "76/76 [==============================] - 0s 5ms/step - loss: 0.7185 - val_loss: 0.5148\n",
      "Epoch 27/70\n",
      "76/76 [==============================] - 0s 5ms/step - loss: 0.7169 - val_loss: 0.5148\n",
      "Epoch 28/70\n",
      "76/76 [==============================] - 0s 5ms/step - loss: 0.7156 - val_loss: 0.5147\n",
      "Epoch 29/70\n",
      "76/76 [==============================] - 0s 5ms/step - loss: 0.7148 - val_loss: 0.5147\n",
      "Epoch 30/70\n",
      "76/76 [==============================] - 0s 5ms/step - loss: 0.7132 - val_loss: 0.5148\n",
      "Epoch 31/70\n",
      "76/76 [==============================] - 0s 5ms/step - loss: 0.7127 - val_loss: 0.5147\n",
      "Epoch 32/70\n",
      "76/76 [==============================] - 0s 5ms/step - loss: 0.7113 - val_loss: 0.5150\n",
      "Epoch 33/70\n",
      "76/76 [==============================] - 0s 5ms/step - loss: 0.7108 - val_loss: 0.5151\n",
      "Epoch 34/70\n",
      "76/76 [==============================] - 0s 5ms/step - loss: 0.7098 - val_loss: 0.5152\n",
      "Epoch 35/70\n",
      "76/76 [==============================] - 0s 5ms/step - loss: 0.7087 - val_loss: 0.5156\n",
      "Epoch 36/70\n",
      "76/76 [==============================] - 0s 5ms/step - loss: 0.7084 - val_loss: 0.5155\n",
      "Epoch 37/70\n",
      "76/76 [==============================] - 0s 5ms/step - loss: 0.7072 - val_loss: 0.5157\n",
      "Epoch 38/70\n",
      "76/76 [==============================] - 0s 5ms/step - loss: 0.7058 - val_loss: 0.5155\n",
      "Epoch 39/70\n",
      "76/76 [==============================] - 0s 5ms/step - loss: 0.7055 - val_loss: 0.5165\n",
      "Epoch 40/70\n",
      "76/76 [==============================] - 0s 5ms/step - loss: 0.7044 - val_loss: 0.5167\n",
      "Epoch 41/70\n",
      "76/76 [==============================] - 0s 5ms/step - loss: 0.7031 - val_loss: 0.5167\n",
      "Epoch 42/70\n",
      "76/76 [==============================] - 0s 5ms/step - loss: 0.7030 - val_loss: 0.5167\n",
      "Epoch 43/70\n",
      "76/76 [==============================] - 0s 5ms/step - loss: 0.7017 - val_loss: 0.5172\n",
      "Epoch 44/70\n",
      "76/76 [==============================] - 0s 5ms/step - loss: 0.7010 - val_loss: 0.5175\n",
      "Epoch 45/70\n",
      "76/76 [==============================] - 0s 5ms/step - loss: 0.7000 - val_loss: 0.5177\n",
      "Epoch 46/70\n",
      "76/76 [==============================] - 0s 5ms/step - loss: 0.7002 - val_loss: 0.5180\n",
      "Epoch 47/70\n",
      "76/76 [==============================] - 0s 5ms/step - loss: 0.6987 - val_loss: 0.5185\n",
      "Epoch 48/70\n",
      "76/76 [==============================] - 0s 5ms/step - loss: 0.6978 - val_loss: 0.5180\n",
      "Epoch 49/70\n",
      "76/76 [==============================] - 0s 5ms/step - loss: 0.6975 - val_loss: 0.5189\n",
      "Epoch 50/70\n",
      "76/76 [==============================] - 0s 5ms/step - loss: 0.6967 - val_loss: 0.5189\n",
      "Epoch 51/70\n",
      "76/76 [==============================] - 0s 5ms/step - loss: 0.6956 - val_loss: 0.5195\n",
      "Epoch 52/70\n",
      "76/76 [==============================] - 0s 5ms/step - loss: 0.6945 - val_loss: 0.5198\n",
      "Epoch 53/70\n",
      "76/76 [==============================] - 0s 5ms/step - loss: 0.6949 - val_loss: 0.5205\n",
      "Epoch 54/70\n",
      "76/76 [==============================] - 0s 4ms/step - loss: 0.6928 - val_loss: 0.5203\n",
      "Epoch 55/70\n",
      "76/76 [==============================] - 0s 5ms/step - loss: 0.6926 - val_loss: 0.5219\n",
      "Epoch 56/70\n",
      "76/76 [==============================] - 0s 5ms/step - loss: 0.6920 - val_loss: 0.5217\n",
      "Epoch 57/70\n",
      "76/76 [==============================] - 0s 5ms/step - loss: 0.6916 - val_loss: 0.5222\n",
      "Epoch 58/70\n",
      "76/76 [==============================] - 0s 5ms/step - loss: 0.6903 - val_loss: 0.5227\n",
      "Epoch 59/70\n",
      "76/76 [==============================] - 0s 5ms/step - loss: 0.6894 - val_loss: 0.5232\n",
      "Epoch 60/70\n",
      "76/76 [==============================] - 0s 5ms/step - loss: 0.6885 - val_loss: 0.5234\n",
      "Epoch 61/70\n",
      "76/76 [==============================] - 0s 5ms/step - loss: 0.6878 - val_loss: 0.5248\n",
      "Epoch 62/70\n",
      "76/76 [==============================] - 0s 5ms/step - loss: 0.6872 - val_loss: 0.5249\n",
      "Epoch 63/70\n",
      "76/76 [==============================] - 0s 5ms/step - loss: 0.6865 - val_loss: 0.5253\n",
      "Epoch 64/70\n",
      "76/76 [==============================] - 0s 5ms/step - loss: 0.6858 - val_loss: 0.5245\n",
      "Epoch 65/70\n",
      "76/76 [==============================] - 0s 5ms/step - loss: 0.6850 - val_loss: 0.5268\n",
      "Epoch 66/70\n",
      "76/76 [==============================] - 0s 5ms/step - loss: 0.6839 - val_loss: 0.5268\n",
      "Epoch 67/70\n",
      "76/76 [==============================] - 0s 6ms/step - loss: 0.6837 - val_loss: 0.5278\n",
      "Epoch 68/70\n",
      "76/76 [==============================] - 0s 5ms/step - loss: 0.6830 - val_loss: 0.5271\n",
      "Epoch 69/70\n",
      "76/76 [==============================] - 0s 5ms/step - loss: 0.6822 - val_loss: 0.5294\n",
      "Epoch 70/70\n",
      "76/76 [==============================] - 0s 5ms/step - loss: 0.6815 - val_loss: 0.5298\n",
      "15/15 [==============================] - 0s 2ms/step\n"
     ]
    },
    {
     "data": {
      "image/png": "[encoded data removed]",
      "text/plain": [
       "<Figure size 640x480 with 1 Axes>"
      ]
     },
     "metadata": {},
     "output_type": "display_data"
    },
    {
     "data": {
      "text/plain": [
       "0.31630193003044427"
      ]
     },
     "execution_count": 228,
     "metadata": {},
     "output_type": "execute_result"
    }
   ],
   "source": [
    "def _compile_model(X_train,y_train,X_test,y_test,epochs,batch_size):\n",
    "    model = Sequential()\n",
    "    model.add(Dense(35, input_shape=(X_train[0].shape[0],),kernel_initializer='RandomUniform', activation='relu'))\n",
    "    model.add(Dense(25,kernel_initializer='RandomUniform', activation='relu'))\n",
    "    model.add(Dense(12,kernel_initializer='RandomUniform', activation='relu'))\n",
    "    model.add(Dense(6,kernel_initializer='RandomUniform', activation='relu'))\n",
    "    model.add(Dense(1,kernel_initializer='RandomUniform',activation='linear'))\n",
    "\n",
    "    # Compile model\n",
    "    model.compile(loss='mean_squared_error', optimizer=Adam(0.0001))\n",
    "    model.fit(X_train, y_train,epochs=epochs,batch_size=batch_size,validation_data=(X_test,y_test))\n",
    "    \n",
    "    history=model.history\n",
    "    y_pred=model.predict(X_test)\n",
    "    r2=r2_score(y_test,y_pred)\n",
    "    return history , r2 , y_pred\n",
    "history , r2 , y_pred=_compile_model(X_train,y_train,X_test,y_test,70,8)\n",
    "\n",
    "plt.plot(history.history['loss'])\n",
    "plt.plot(history.history['val_loss'])\n",
    "plt.legend(['loss','val_loss'])\n",
    "plt.show()\n",
    "r2"
   ]
  },
  {
   "attachments": {},
   "cell_type": "markdown",
   "metadata": {},
   "source": [
    "# Data Augmentation"
   ]
  },
  {
   "cell_type": "code",
   "execution_count": null,
   "metadata": {},
   "outputs": [],
   "source": [
    "train,test=_load_data()\n",
    "\n",
    "fake=pd.DataFrame([[1,2,3,4,5,6,7,8,9,10,11]],columns=train.columns,index=range(2000))\n",
    "fake.columns\n",
    "for item in fake.columns:\n",
    "    fake[item]=np.random.random(2000)\n",
    "fake['fake']=np.ones(len(fake))\n",
    "fake"
   ]
  },
  {
   "cell_type": "code",
   "execution_count": null,
   "metadata": {},
   "outputs": [],
   "source": [
    "train['fake']=np.zeros(len(train))\n",
    "df=pd.concat([fake,train],axis=0)\n",
    "df.reset_index(drop=True,inplace=True)\n",
    "df"
   ]
  },
  {
   "cell_type": "code",
   "execution_count": null,
   "metadata": {},
   "outputs": [],
   "source": [
    "from imblearn.over_sampling import SMOTE\n",
    "X=df.drop(['fake'],axis=1)\n",
    "y=df.fake\n",
    "# transform the dataset\n",
    "oversample = SMOTE()\n",
    "X, y = oversample.fit_resample(X, y)\n",
    "\n",
    "X['fake']=y\n",
    "X"
   ]
  },
  {
   "cell_type": "code",
   "execution_count": null,
   "metadata": {},
   "outputs": [],
   "source": [
    "plt.bar(1,len(df[df.fake==1]))\n",
    "plt.bar(0,len(df[df.fake==0]))\n",
    "plt.show()\n",
    "plt.bar(1,len(X[X.fake==1]))\n",
    "plt.bar(0,len(X[X.fake==0]))\n",
    "plt.show()"
   ]
  },
  {
   "cell_type": "code",
   "execution_count": null,
   "metadata": {},
   "outputs": [],
   "source": [
    "train=X[X.fake==0]\n",
    "train.drop(['fake'],axis=1,inplace=True)\n",
    "train"
   ]
  },
  {
   "cell_type": "code",
   "execution_count": null,
   "metadata": {},
   "outputs": [],
   "source": [
    "X_train,y_train=_prepare_data(train)\n",
    "X_train,y_train , X_scaler , y_scaler=_scale_data(X_train,y_train)\n",
    "\n",
    "X_test,y_test=_prepare_data(test)\n",
    "# to set a new scaler\n",
    "# X_test_scaler=StandardScaler()\n",
    "# y_test_scaler=StandardScaler()\n",
    "\n",
    "# X_test=X_test_scaler.fit_transform(X_test)\n",
    "# y_test=y_test_scaler.fit_transform(np.array(y_test).reshape(-1,1))\n",
    "\n",
    "#to scale by the train scaler\n",
    "X_test=X_scaler.transform(X_test)\n",
    "y_test=y_scaler.transform(np.array(y_test).reshape(-1,1))"
   ]
  },
  {
   "cell_type": "code",
   "execution_count": null,
   "metadata": {},
   "outputs": [],
   "source": [
    "def _compile_model(X_train,y_train,X_test,y_test,epochs,batch_size):\n",
    "    model = Sequential()\n",
    "    model.add(Dense(20, input_shape=(X_train[0].shape[0],),kernel_initializer='normal', activation='relu'))\n",
    "    model.add(Dense(15,kernel_initializer='normal', activation='relu'))\n",
    "    model.add(Dense(5,kernel_initializer='normal', activation='relu'))\n",
    "    model.add(Dense(1,kernel_initializer='normal',activation='linear'))\n",
    "\n",
    "    # Compile model\n",
    "    model.compile(loss='mean_squared_error', optimizer=Adam(learning_rate=0.0001))\n",
    "    model.fit(X_train, y_train,epochs=epochs,batch_size=batch_size,validation_data=(X_test,y_test))\n",
    "    \n",
    "    history=model.history\n",
    "    y_pred=model.predict(X_test)\n",
    "    r2=r2_score(y_test,y_pred)\n",
    "    return history , r2 , y_pred\n",
    "\n",
    "history , r2 , y_pred=_compile_model(X_train,y_train,X_test,y_test,100,8)\n",
    "\n",
    "plt.plot(history.history['loss'])\n",
    "plt.plot(history.history['val_loss'])\n",
    "plt.legend(['loss','val_loss'])\n",
    "plt.show()\n",
    "print('R_squared is:',r2)"
   ]
  },
  {
   "attachments": {},
   "cell_type": "markdown",
   "metadata": {},
   "source": [
    "# Hybrid model"
   ]
  },
  {
   "cell_type": "code",
   "execution_count": 124,
   "metadata": {},
   "outputs": [
    {
     "name": "stdout",
     "output_type": "stream",
     "text": [
      "(605, 11) (461, 11)\n"
     ]
    }
   ],
   "source": [
    "train , test =_load_data()"
   ]
  },
  {
   "cell_type": "code",
   "execution_count": 171,
   "metadata": {},
   "outputs": [
    {
     "name": "stdout",
     "output_type": "stream",
     "text": [
      "(605, 10) (605, 1)\n"
     ]
    }
   ],
   "source": [
    "X_train,y_train=_prepare_data(train)\n",
    "X_train,y_train , X_scaler , y_scaler=_scale_data(X_train,y_train)\n",
    "\n",
    "X_test,y_test=_prepare_data(test)\n",
    "# to set a new scaler\n",
    "X_test_scaler=StandardScaler()\n",
    "y_test_scaler=StandardScaler()\n",
    "X_test=X_test_scaler.fit_transform(X_test)\n",
    "y_test=y_test_scaler.fit_transform(np.array(y_test).reshape(-1,1))\n",
    "\n",
    "#to scale by the train scaler\n",
    "# X_test=X_scaler.transform(X_test)\n",
    "# y_test=y_scaler.transform(np.array(y_test).reshape(-1,1))"
   ]
  },
  {
   "cell_type": "code",
   "execution_count": 172,
   "metadata": {},
   "outputs": [],
   "source": [
    "def _create_NN_features():\n",
    "    model = Sequential()\n",
    "\n",
    "\n",
    "    # Compile model\n",
    "    model.compile(loss='mean_squared_error', optimizer=Adam(learning_rate=0.0001))\n",
    "    model.fit(X_train, y_train,epochs=40,batch_size=8,validation_split=0.2)\n",
    "    nnfeatures=model.predict(X_train)\n",
    "    return nnfeatures , model"
   ]
  },
  {
   "cell_type": "code",
   "execution_count": 173,
   "metadata": {},
   "outputs": [
    {
     "name": "stdout",
     "output_type": "stream",
     "text": [
      "Epoch 1/40\n",
      "61/61 [==============================] - 1s 6ms/step - loss: 2.1556 - val_loss: 1.0866\n",
      "Epoch 2/40\n",
      "61/61 [==============================] - 0s 3ms/step - loss: 2.1556 - val_loss: 1.0866\n",
      "Epoch 3/40\n",
      "61/61 [==============================] - 0s 4ms/step - loss: 2.1556 - val_loss: 1.0866\n",
      "Epoch 4/40\n",
      "61/61 [==============================] - 0s 3ms/step - loss: 2.1556 - val_loss: 1.0866\n",
      "Epoch 5/40\n",
      "61/61 [==============================] - 0s 2ms/step - loss: 2.1556 - val_loss: 1.0866\n",
      "Epoch 6/40\n",
      "61/61 [==============================] - 0s 4ms/step - loss: 2.1556 - val_loss: 1.0866\n",
      "Epoch 7/40\n",
      "61/61 [==============================] - 0s 3ms/step - loss: 2.1556 - val_loss: 1.0866\n",
      "Epoch 8/40\n",
      "61/61 [==============================] - 0s 3ms/step - loss: 2.1556 - val_loss: 1.0866\n",
      "Epoch 9/40\n",
      "61/61 [==============================] - 0s 4ms/step - loss: 2.1556 - val_loss: 1.0866\n",
      "Epoch 10/40\n",
      "61/61 [==============================] - 0s 3ms/step - loss: 2.1556 - val_loss: 1.0866\n",
      "Epoch 11/40\n",
      "61/61 [==============================] - 0s 3ms/step - loss: 2.1556 - val_loss: 1.0866\n",
      "Epoch 12/40\n",
      "61/61 [==============================] - 0s 3ms/step - loss: 2.1556 - val_loss: 1.0866\n",
      "Epoch 13/40\n",
      "61/61 [==============================] - 0s 3ms/step - loss: 2.1556 - val_loss: 1.0866\n",
      "Epoch 14/40\n",
      "61/61 [==============================] - 0s 4ms/step - loss: 2.1556 - val_loss: 1.0866\n",
      "Epoch 15/40\n",
      "61/61 [==============================] - 0s 3ms/step - loss: 2.1556 - val_loss: 1.0866\n",
      "Epoch 16/40\n",
      "61/61 [==============================] - 0s 4ms/step - loss: 2.1556 - val_loss: 1.0866\n",
      "Epoch 17/40\n",
      "61/61 [==============================] - 0s 3ms/step - loss: 2.1556 - val_loss: 1.0866\n",
      "Epoch 18/40\n",
      "61/61 [==============================] - 0s 4ms/step - loss: 2.1556 - val_loss: 1.0866\n",
      "Epoch 19/40\n",
      "61/61 [==============================] - 0s 3ms/step - loss: 2.1556 - val_loss: 1.0866\n",
      "Epoch 20/40\n",
      "61/61 [==============================] - 0s 4ms/step - loss: 2.1556 - val_loss: 1.0866\n",
      "Epoch 21/40\n",
      "61/61 [==============================] - 0s 4ms/step - loss: 2.1556 - val_loss: 1.0866\n",
      "Epoch 22/40\n",
      "61/61 [==============================] - 0s 3ms/step - loss: 2.1556 - val_loss: 1.0866\n",
      "Epoch 23/40\n",
      "61/61 [==============================] - 0s 4ms/step - loss: 2.1556 - val_loss: 1.0866\n",
      "Epoch 24/40\n",
      "61/61 [==============================] - 0s 3ms/step - loss: 2.1556 - val_loss: 1.0866\n",
      "Epoch 25/40\n",
      "61/61 [==============================] - 0s 3ms/step - loss: 2.1556 - val_loss: 1.0866\n",
      "Epoch 26/40\n",
      "61/61 [==============================] - 0s 4ms/step - loss: 2.1556 - val_loss: 1.0866\n",
      "Epoch 27/40\n",
      "61/61 [==============================] - 0s 4ms/step - loss: 2.1556 - val_loss: 1.0866\n",
      "Epoch 28/40\n",
      "61/61 [==============================] - 0s 3ms/step - loss: 2.1556 - val_loss: 1.0866\n",
      "Epoch 29/40\n",
      "61/61 [==============================] - 0s 3ms/step - loss: 2.1556 - val_loss: 1.0866\n",
      "Epoch 30/40\n",
      "61/61 [==============================] - 0s 4ms/step - loss: 2.1556 - val_loss: 1.0866\n",
      "Epoch 31/40\n",
      "61/61 [==============================] - 0s 4ms/step - loss: 2.1556 - val_loss: 1.0866\n",
      "Epoch 32/40\n",
      "61/61 [==============================] - 0s 4ms/step - loss: 2.1556 - val_loss: 1.0866\n",
      "Epoch 33/40\n",
      "61/61 [==============================] - 0s 4ms/step - loss: 2.1556 - val_loss: 1.0866\n",
      "Epoch 34/40\n",
      "61/61 [==============================] - 0s 3ms/step - loss: 2.1556 - val_loss: 1.0866\n",
      "Epoch 35/40\n",
      "61/61 [==============================] - 0s 4ms/step - loss: 2.1556 - val_loss: 1.0866\n",
      "Epoch 36/40\n",
      "61/61 [==============================] - 0s 4ms/step - loss: 2.1556 - val_loss: 1.0866\n",
      "Epoch 37/40\n",
      "61/61 [==============================] - 0s 3ms/step - loss: 2.1556 - val_loss: 1.0866\n",
      "Epoch 38/40\n",
      "61/61 [==============================] - 0s 4ms/step - loss: 2.1556 - val_loss: 1.0866\n",
      "Epoch 39/40\n",
      "61/61 [==============================] - 0s 4ms/step - loss: 2.1556 - val_loss: 1.0866\n",
      "Epoch 40/40\n",
      "61/61 [==============================] - 0s 3ms/step - loss: 2.1556 - val_loss: 1.0866\n",
      "19/19 [==============================] - 0s 3ms/step\n",
      "15/15 [==============================] - 0s 2ms/step\n"
     ]
    }
   ],
   "source": [
    "df_train , model =_create_NN_features()\n",
    "df_test=model.predict(X_test)\n",
    "\n",
    "# df_train=X_scaler.transform(df_train)\n",
    "# df_test=X_scaler.transform(df_test)\n",
    "\n",
    "# reg = LazyRegressor(verbose=0, ignore_warnings=True, custom_metric=None)\n",
    "# models, predictions = reg.fit(df_train, df_test, y_train, y_test)"
   ]
  },
  {
   "cell_type": "code",
   "execution_count": 175,
   "metadata": {},
   "outputs": [
    {
     "data": {
      "text/plain": [
       "-1.3065837041798538"
      ]
     },
     "execution_count": 175,
     "metadata": {},
     "output_type": "execute_result"
    }
   ],
   "source": [
    "from sklearn.tree import DecisionTreeRegressor\n",
    "\n",
    "regressor = DecisionTreeRegressor()  #using linear kernel for SVM regressor \n",
    "regressor.fit(df_train, y_train)  \n",
    "y_pred = regressor.predict(df_test)\n",
    "r2_score(y_test,y_pred)"
   ]
  },
  {
   "attachments": {},
   "cell_type": "markdown",
   "metadata": {},
   "source": [
    "# Data Exploring"
   ]
  },
  {
   "cell_type": "code",
   "execution_count": 205,
   "metadata": {},
   "outputs": [
    {
     "name": "stdout",
     "output_type": "stream",
     "text": [
      "(605, 11) (461, 11)\n"
     ]
    }
   ],
   "source": [
    "train , test=_load_data()"
   ]
  },
  {
   "cell_type": "code",
   "execution_count": 97,
   "metadata": {},
   "outputs": [],
   "source": [
    "#create a function to find outliers using IQR\n",
    "\n",
    "def find_outliers_IQR(df):\n",
    "\n",
    "   q1=df.quantile(0.25)\n",
    "\n",
    "   q3=df.quantile(0.75)\n",
    "\n",
    "   IQR=q3-q1\n",
    "\n",
    "   outliers = df[((df<(q1-1.5*IQR)) | (df>(q3+1.5*IQR)))]\n",
    "\n",
    "   return outliers"
   ]
  },
  {
   "attachments": {},
   "cell_type": "markdown",
   "metadata": {},
   "source": [
    "# Machine Learning"
   ]
  },
  {
   "cell_type": "code",
   "execution_count": 236,
   "metadata": {},
   "outputs": [
    {
     "name": "stdout",
     "output_type": "stream",
     "text": [
      "(605, 11) (461, 11)\n"
     ]
    }
   ],
   "source": [
    "train , test=_load_data()"
   ]
  },
  {
   "cell_type": "code",
   "execution_count": 237,
   "metadata": {},
   "outputs": [
    {
     "name": "stdout",
     "output_type": "stream",
     "text": [
      "(605, 10) (605, 1)\n"
     ]
    }
   ],
   "source": [
    "X_train,y_train=_prepare_data(train)\n",
    "X_train,y_train , X_scaler , y_scaler=_scale_data(X_train,y_train)\n",
    "\n",
    "X_test,y_test=_prepare_data(test)\n",
    "# to set a new scaler\n",
    "# X_test_scaler=StandardScaler()\n",
    "# y_test_scaler=StandardScaler()\n",
    "# X_test=X_test_scaler.fit_transform(X_test)\n",
    "# y_test=y_test_scaler.fit_transform(np.array(y_test).reshape(-1,1))\n",
    "\n",
    "#to scale by the train scaler\n",
    "X_test=X_scaler.transform(X_test)\n",
    "y_test=y_scaler.transform(np.array(y_test).reshape(-1,1))"
   ]
  },
  {
   "cell_type": "code",
   "execution_count": 238,
   "metadata": {},
   "outputs": [
    {
     "data": {
      "text/plain": [
       "-5.457210958601155"
      ]
     },
     "execution_count": 238,
     "metadata": {},
     "output_type": "execute_result"
    }
   ],
   "source": [
    "from sklearn.tree import DecisionTreeRegressor\n",
    "regressor = DecisionTreeRegressor()  #using linear kernel for SVM regressor \n",
    "regressor.fit(X_train, y_train)  \n",
    "y_pred = regressor.predict(X_test)\n",
    "r2_score(y_test,y_pred)"
   ]
  },
  {
   "cell_type": "code",
   "execution_count": 239,
   "metadata": {},
   "outputs": [
    {
     "name": "stderr",
     "output_type": "stream",
     "text": [
      "100%|██████████| 42/42 [00:15<00:00,  2.72it/s]\n"
     ]
    },
    {
     "data": {
      "text/html": [
       "<div>\n",
       "<style scoped>\n",
       "    .dataframe tbody tr th:only-of-type {\n",
       "        vertical-align: middle;\n",
       "    }\n",
       "\n",
       "    .dataframe tbody tr th {\n",
       "        vertical-align: top;\n",
       "    }\n",
       "\n",
       "    .dataframe thead th {\n",
       "        text-align: right;\n",
       "    }\n",
       "</style>\n",
       "<table border=\"1\" class=\"dataframe\">\n",
       "  <thead>\n",
       "    <tr style=\"text-align: right;\">\n",
       "      <th></th>\n",
       "      <th>Adjusted R-Squared</th>\n",
       "      <th>R-Squared</th>\n",
       "      <th>RMSE</th>\n",
       "      <th>Time Taken</th>\n",
       "    </tr>\n",
       "    <tr>\n",
       "      <th>Model</th>\n",
       "      <th></th>\n",
       "      <th></th>\n",
       "      <th></th>\n",
       "      <th></th>\n",
       "    </tr>\n",
       "  </thead>\n",
       "  <tbody>\n",
       "    <tr>\n",
       "      <th>SVR</th>\n",
       "      <td>0.35</td>\n",
       "      <td>0.36</td>\n",
       "      <td>0.70</td>\n",
       "      <td>0.04</td>\n",
       "    </tr>\n",
       "    <tr>\n",
       "      <th>NuSVR</th>\n",
       "      <td>0.34</td>\n",
       "      <td>0.36</td>\n",
       "      <td>0.70</td>\n",
       "      <td>0.10</td>\n",
       "    </tr>\n",
       "    <tr>\n",
       "      <th>HuberRegressor</th>\n",
       "      <td>0.34</td>\n",
       "      <td>0.35</td>\n",
       "      <td>0.71</td>\n",
       "      <td>0.02</td>\n",
       "    </tr>\n",
       "    <tr>\n",
       "      <th>LinearSVR</th>\n",
       "      <td>0.33</td>\n",
       "      <td>0.34</td>\n",
       "      <td>0.71</td>\n",
       "      <td>0.02</td>\n",
       "    </tr>\n",
       "    <tr>\n",
       "      <th>RANSACRegressor</th>\n",
       "      <td>0.24</td>\n",
       "      <td>0.26</td>\n",
       "      <td>0.76</td>\n",
       "      <td>0.20</td>\n",
       "    </tr>\n",
       "    <tr>\n",
       "      <th>OrthogonalMatchingPursuit</th>\n",
       "      <td>0.23</td>\n",
       "      <td>0.25</td>\n",
       "      <td>0.76</td>\n",
       "      <td>0.02</td>\n",
       "    </tr>\n",
       "    <tr>\n",
       "      <th>TweedieRegressor</th>\n",
       "      <td>0.22</td>\n",
       "      <td>0.24</td>\n",
       "      <td>0.77</td>\n",
       "      <td>0.01</td>\n",
       "    </tr>\n",
       "    <tr>\n",
       "      <th>ElasticNetCV</th>\n",
       "      <td>0.22</td>\n",
       "      <td>0.23</td>\n",
       "      <td>0.77</td>\n",
       "      <td>0.10</td>\n",
       "    </tr>\n",
       "    <tr>\n",
       "      <th>LassoCV</th>\n",
       "      <td>0.21</td>\n",
       "      <td>0.23</td>\n",
       "      <td>0.77</td>\n",
       "      <td>0.09</td>\n",
       "    </tr>\n",
       "    <tr>\n",
       "      <th>LassoLarsCV</th>\n",
       "      <td>0.21</td>\n",
       "      <td>0.23</td>\n",
       "      <td>0.77</td>\n",
       "      <td>0.03</td>\n",
       "    </tr>\n",
       "    <tr>\n",
       "      <th>BayesianRidge</th>\n",
       "      <td>0.19</td>\n",
       "      <td>0.21</td>\n",
       "      <td>0.78</td>\n",
       "      <td>0.01</td>\n",
       "    </tr>\n",
       "    <tr>\n",
       "      <th>LassoLarsIC</th>\n",
       "      <td>0.19</td>\n",
       "      <td>0.20</td>\n",
       "      <td>0.79</td>\n",
       "      <td>0.02</td>\n",
       "    </tr>\n",
       "    <tr>\n",
       "      <th>RidgeCV</th>\n",
       "      <td>0.18</td>\n",
       "      <td>0.20</td>\n",
       "      <td>0.79</td>\n",
       "      <td>0.01</td>\n",
       "    </tr>\n",
       "    <tr>\n",
       "      <th>SGDRegressor</th>\n",
       "      <td>0.18</td>\n",
       "      <td>0.20</td>\n",
       "      <td>0.79</td>\n",
       "      <td>0.01</td>\n",
       "    </tr>\n",
       "    <tr>\n",
       "      <th>LGBMRegressor</th>\n",
       "      <td>0.18</td>\n",
       "      <td>0.20</td>\n",
       "      <td>0.79</td>\n",
       "      <td>0.12</td>\n",
       "    </tr>\n",
       "    <tr>\n",
       "      <th>Ridge</th>\n",
       "      <td>0.18</td>\n",
       "      <td>0.20</td>\n",
       "      <td>0.79</td>\n",
       "      <td>0.01</td>\n",
       "    </tr>\n",
       "    <tr>\n",
       "      <th>KernelRidge</th>\n",
       "      <td>0.18</td>\n",
       "      <td>0.20</td>\n",
       "      <td>0.79</td>\n",
       "      <td>0.07</td>\n",
       "    </tr>\n",
       "    <tr>\n",
       "      <th>LinearRegression</th>\n",
       "      <td>0.18</td>\n",
       "      <td>0.20</td>\n",
       "      <td>0.79</td>\n",
       "      <td>0.01</td>\n",
       "    </tr>\n",
       "    <tr>\n",
       "      <th>TransformedTargetRegressor</th>\n",
       "      <td>0.18</td>\n",
       "      <td>0.20</td>\n",
       "      <td>0.79</td>\n",
       "      <td>0.01</td>\n",
       "    </tr>\n",
       "    <tr>\n",
       "      <th>OrthogonalMatchingPursuitCV</th>\n",
       "      <td>0.16</td>\n",
       "      <td>0.17</td>\n",
       "      <td>0.80</td>\n",
       "      <td>0.02</td>\n",
       "    </tr>\n",
       "    <tr>\n",
       "      <th>HistGradientBoostingRegressor</th>\n",
       "      <td>0.15</td>\n",
       "      <td>0.17</td>\n",
       "      <td>0.80</td>\n",
       "      <td>0.72</td>\n",
       "    </tr>\n",
       "    <tr>\n",
       "      <th>MLPRegressor</th>\n",
       "      <td>0.10</td>\n",
       "      <td>0.12</td>\n",
       "      <td>0.82</td>\n",
       "      <td>1.09</td>\n",
       "    </tr>\n",
       "    <tr>\n",
       "      <th>GaussianProcessRegressor</th>\n",
       "      <td>0.02</td>\n",
       "      <td>0.04</td>\n",
       "      <td>0.86</td>\n",
       "      <td>0.17</td>\n",
       "    </tr>\n",
       "    <tr>\n",
       "      <th>ElasticNet</th>\n",
       "      <td>-0.02</td>\n",
       "      <td>-0.00</td>\n",
       "      <td>0.88</td>\n",
       "      <td>0.01</td>\n",
       "    </tr>\n",
       "    <tr>\n",
       "      <th>LassoLars</th>\n",
       "      <td>-0.02</td>\n",
       "      <td>-0.00</td>\n",
       "      <td>0.88</td>\n",
       "      <td>0.02</td>\n",
       "    </tr>\n",
       "    <tr>\n",
       "      <th>Lasso</th>\n",
       "      <td>-0.02</td>\n",
       "      <td>-0.00</td>\n",
       "      <td>0.88</td>\n",
       "      <td>0.01</td>\n",
       "    </tr>\n",
       "    <tr>\n",
       "      <th>DummyRegressor</th>\n",
       "      <td>-0.02</td>\n",
       "      <td>-0.00</td>\n",
       "      <td>0.88</td>\n",
       "      <td>0.01</td>\n",
       "    </tr>\n",
       "    <tr>\n",
       "      <th>QuantileRegressor</th>\n",
       "      <td>-0.04</td>\n",
       "      <td>-0.02</td>\n",
       "      <td>0.89</td>\n",
       "      <td>10.75</td>\n",
       "    </tr>\n",
       "    <tr>\n",
       "      <th>KNeighborsRegressor</th>\n",
       "      <td>-0.10</td>\n",
       "      <td>-0.07</td>\n",
       "      <td>0.91</td>\n",
       "      <td>0.02</td>\n",
       "    </tr>\n",
       "    <tr>\n",
       "      <th>PassiveAggressiveRegressor</th>\n",
       "      <td>-0.22</td>\n",
       "      <td>-0.19</td>\n",
       "      <td>0.96</td>\n",
       "      <td>0.01</td>\n",
       "    </tr>\n",
       "    <tr>\n",
       "      <th>ExtraTreesRegressor</th>\n",
       "      <td>-0.62</td>\n",
       "      <td>-0.58</td>\n",
       "      <td>1.11</td>\n",
       "      <td>0.32</td>\n",
       "    </tr>\n",
       "    <tr>\n",
       "      <th>LarsCV</th>\n",
       "      <td>-0.74</td>\n",
       "      <td>-0.70</td>\n",
       "      <td>1.15</td>\n",
       "      <td>0.06</td>\n",
       "    </tr>\n",
       "    <tr>\n",
       "      <th>RandomForestRegressor</th>\n",
       "      <td>-1.00</td>\n",
       "      <td>-0.96</td>\n",
       "      <td>1.23</td>\n",
       "      <td>0.44</td>\n",
       "    </tr>\n",
       "    <tr>\n",
       "      <th>BaggingRegressor</th>\n",
       "      <td>-1.51</td>\n",
       "      <td>-1.46</td>\n",
       "      <td>1.38</td>\n",
       "      <td>0.07</td>\n",
       "    </tr>\n",
       "    <tr>\n",
       "      <th>AdaBoostRegressor</th>\n",
       "      <td>-1.91</td>\n",
       "      <td>-1.85</td>\n",
       "      <td>1.49</td>\n",
       "      <td>0.23</td>\n",
       "    </tr>\n",
       "    <tr>\n",
       "      <th>DecisionTreeRegressor</th>\n",
       "      <td>-2.05</td>\n",
       "      <td>-1.98</td>\n",
       "      <td>1.52</td>\n",
       "      <td>0.02</td>\n",
       "    </tr>\n",
       "    <tr>\n",
       "      <th>GradientBoostingRegressor</th>\n",
       "      <td>-2.29</td>\n",
       "      <td>-2.22</td>\n",
       "      <td>1.58</td>\n",
       "      <td>0.29</td>\n",
       "    </tr>\n",
       "    <tr>\n",
       "      <th>XGBRegressor</th>\n",
       "      <td>-4.08</td>\n",
       "      <td>-3.97</td>\n",
       "      <td>1.96</td>\n",
       "      <td>0.15</td>\n",
       "    </tr>\n",
       "    <tr>\n",
       "      <th>ExtraTreeRegressor</th>\n",
       "      <td>-5.58</td>\n",
       "      <td>-5.44</td>\n",
       "      <td>2.23</td>\n",
       "      <td>0.02</td>\n",
       "    </tr>\n",
       "    <tr>\n",
       "      <th>Lars</th>\n",
       "      <td>-8265594693253987513252479762432.00</td>\n",
       "      <td>-8085907852096292475194788806656.00</td>\n",
       "      <td>2503217600513673.00</td>\n",
       "      <td>0.05</td>\n",
       "    </tr>\n",
       "  </tbody>\n",
       "</table>\n",
       "</div>"
      ],
      "text/plain": [
       "                                               Adjusted R-Squared  \\\n",
       "Model                                                               \n",
       "SVR                                                          0.35   \n",
       "NuSVR                                                        0.34   \n",
       "HuberRegressor                                               0.34   \n",
       "LinearSVR                                                    0.33   \n",
       "RANSACRegressor                                              0.24   \n",
       "OrthogonalMatchingPursuit                                    0.23   \n",
       "TweedieRegressor                                             0.22   \n",
       "ElasticNetCV                                                 0.22   \n",
       "LassoCV                                                      0.21   \n",
       "LassoLarsCV                                                  0.21   \n",
       "BayesianRidge                                                0.19   \n",
       "LassoLarsIC                                                  0.19   \n",
       "RidgeCV                                                      0.18   \n",
       "SGDRegressor                                                 0.18   \n",
       "LGBMRegressor                                                0.18   \n",
       "Ridge                                                        0.18   \n",
       "KernelRidge                                                  0.18   \n",
       "LinearRegression                                             0.18   \n",
       "TransformedTargetRegressor                                   0.18   \n",
       "OrthogonalMatchingPursuitCV                                  0.16   \n",
       "HistGradientBoostingRegressor                                0.15   \n",
       "MLPRegressor                                                 0.10   \n",
       "GaussianProcessRegressor                                     0.02   \n",
       "ElasticNet                                                  -0.02   \n",
       "LassoLars                                                   -0.02   \n",
       "Lasso                                                       -0.02   \n",
       "DummyRegressor                                              -0.02   \n",
       "QuantileRegressor                                           -0.04   \n",
       "KNeighborsRegressor                                         -0.10   \n",
       "PassiveAggressiveRegressor                                  -0.22   \n",
       "ExtraTreesRegressor                                         -0.62   \n",
       "LarsCV                                                      -0.74   \n",
       "RandomForestRegressor                                       -1.00   \n",
       "BaggingRegressor                                            -1.51   \n",
       "AdaBoostRegressor                                           -1.91   \n",
       "DecisionTreeRegressor                                       -2.05   \n",
       "GradientBoostingRegressor                                   -2.29   \n",
       "XGBRegressor                                                -4.08   \n",
       "ExtraTreeRegressor                                          -5.58   \n",
       "Lars                          -8265594693253987513252479762432.00   \n",
       "\n",
       "                                                        R-Squared  \\\n",
       "Model                                                               \n",
       "SVR                                                          0.36   \n",
       "NuSVR                                                        0.36   \n",
       "HuberRegressor                                               0.35   \n",
       "LinearSVR                                                    0.34   \n",
       "RANSACRegressor                                              0.26   \n",
       "OrthogonalMatchingPursuit                                    0.25   \n",
       "TweedieRegressor                                             0.24   \n",
       "ElasticNetCV                                                 0.23   \n",
       "LassoCV                                                      0.23   \n",
       "LassoLarsCV                                                  0.23   \n",
       "BayesianRidge                                                0.21   \n",
       "LassoLarsIC                                                  0.20   \n",
       "RidgeCV                                                      0.20   \n",
       "SGDRegressor                                                 0.20   \n",
       "LGBMRegressor                                                0.20   \n",
       "Ridge                                                        0.20   \n",
       "KernelRidge                                                  0.20   \n",
       "LinearRegression                                             0.20   \n",
       "TransformedTargetRegressor                                   0.20   \n",
       "OrthogonalMatchingPursuitCV                                  0.17   \n",
       "HistGradientBoostingRegressor                                0.17   \n",
       "MLPRegressor                                                 0.12   \n",
       "GaussianProcessRegressor                                     0.04   \n",
       "ElasticNet                                                  -0.00   \n",
       "LassoLars                                                   -0.00   \n",
       "Lasso                                                       -0.00   \n",
       "DummyRegressor                                              -0.00   \n",
       "QuantileRegressor                                           -0.02   \n",
       "KNeighborsRegressor                                         -0.07   \n",
       "PassiveAggressiveRegressor                                  -0.19   \n",
       "ExtraTreesRegressor                                         -0.58   \n",
       "LarsCV                                                      -0.70   \n",
       "RandomForestRegressor                                       -0.96   \n",
       "BaggingRegressor                                            -1.46   \n",
       "AdaBoostRegressor                                           -1.85   \n",
       "DecisionTreeRegressor                                       -1.98   \n",
       "GradientBoostingRegressor                                   -2.22   \n",
       "XGBRegressor                                                -3.97   \n",
       "ExtraTreeRegressor                                          -5.44   \n",
       "Lars                          -8085907852096292475194788806656.00   \n",
       "\n",
       "                                             RMSE  Time Taken  \n",
       "Model                                                          \n",
       "SVR                                          0.70        0.04  \n",
       "NuSVR                                        0.70        0.10  \n",
       "HuberRegressor                               0.71        0.02  \n",
       "LinearSVR                                    0.71        0.02  \n",
       "RANSACRegressor                              0.76        0.20  \n",
       "OrthogonalMatchingPursuit                    0.76        0.02  \n",
       "TweedieRegressor                             0.77        0.01  \n",
       "ElasticNetCV                                 0.77        0.10  \n",
       "LassoCV                                      0.77        0.09  \n",
       "LassoLarsCV                                  0.77        0.03  \n",
       "BayesianRidge                                0.78        0.01  \n",
       "LassoLarsIC                                  0.79        0.02  \n",
       "RidgeCV                                      0.79        0.01  \n",
       "SGDRegressor                                 0.79        0.01  \n",
       "LGBMRegressor                                0.79        0.12  \n",
       "Ridge                                        0.79        0.01  \n",
       "KernelRidge                                  0.79        0.07  \n",
       "LinearRegression                             0.79        0.01  \n",
       "TransformedTargetRegressor                   0.79        0.01  \n",
       "OrthogonalMatchingPursuitCV                  0.80        0.02  \n",
       "HistGradientBoostingRegressor                0.80        0.72  \n",
       "MLPRegressor                                 0.82        1.09  \n",
       "GaussianProcessRegressor                     0.86        0.17  \n",
       "ElasticNet                                   0.88        0.01  \n",
       "LassoLars                                    0.88        0.02  \n",
       "Lasso                                        0.88        0.01  \n",
       "DummyRegressor                               0.88        0.01  \n",
       "QuantileRegressor                            0.89       10.75  \n",
       "KNeighborsRegressor                          0.91        0.02  \n",
       "PassiveAggressiveRegressor                   0.96        0.01  \n",
       "ExtraTreesRegressor                          1.11        0.32  \n",
       "LarsCV                                       1.15        0.06  \n",
       "RandomForestRegressor                        1.23        0.44  \n",
       "BaggingRegressor                             1.38        0.07  \n",
       "AdaBoostRegressor                            1.49        0.23  \n",
       "DecisionTreeRegressor                        1.52        0.02  \n",
       "GradientBoostingRegressor                    1.58        0.29  \n",
       "XGBRegressor                                 1.96        0.15  \n",
       "ExtraTreeRegressor                           2.23        0.02  \n",
       "Lars                          2503217600513673.00        0.05  "
      ]
     },
     "execution_count": 239,
     "metadata": {},
     "output_type": "execute_result"
    }
   ],
   "source": [
    "reg=LazyRegressor()\n",
    "models=reg.fit(X_train, X_test, y_train, y_test)\n",
    "models[0]"
   ]
  },
  {
   "cell_type": "code",
   "execution_count": null,
   "metadata": {},
   "outputs": [],
   "source": []
  }
 ],
 "metadata": {
  "kernelspec": {
   "display_name": "Python 3 (ipykernel)",
   "language": "python",
   "name": "python3"
  },
  "language_info": {
   "codemirror_mode": {
    "name": "ipython",
    "version": 3
   },
   "file_extension": ".py",
   "mimetype": "text/x-python",
   "name": "python",
   "nbconvert_exporter": "python",
   "pygments_lexer": "ipython3",
   "version": "3.10.6"
  },
  "orig_nbformat": 4
 },
 "nbformat": 4,
 "nbformat_minor": 2
}
